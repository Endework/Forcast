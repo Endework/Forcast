{
 "cells": [
  {
   "cell_type": "code",
   "execution_count": 1,
   "metadata": {},
   "outputs": [],
   "source": [
    "import os\n",
    "import warnings\n",
    "import sys\n",
    "\n",
    "import pandas as pd \n",
    "import numpy as np\n",
    "from sklearn.metrics import mean_squared_error, mean_absolute_error, r2_score\n",
    "from sklearn.model_selection import train_test_split\n",
    "from sklearn.linear_model import ElasticNet\n",
    "from urllib.parse import urlparse\n",
    "import mlflow\n",
    "import mlflow.sklearn\n",
    "\n",
    "import logging\n",
    "\n",
    "logging.basicConfig(level=logging.WARN)\n",
    "logger = logging.getLogger(__name__)\n"
   ]
  },
  {
   "cell_type": "code",
   "execution_count": null,
   "metadata": {},
   "outputs": [],
   "source": [
    "mlflow.set_experiment('new')"
   ]
  },
  {
   "cell_type": "code",
   "execution_count": 18,
   "metadata": {},
   "outputs": [
    {
     "ename": "RevError",
     "evalue": "unknown Git revision 'v21'",
     "output_type": "error",
     "traceback": [
      "\u001b[1;31m---------------------------------------------------------------------------\u001b[0m",
      "\u001b[1;31mRevError\u001b[0m                                  Traceback (most recent call last)",
      "\u001b[1;32mc:\\Users\\ende\\Desktop\\test\\notebooks\\final.ipynb Cell 3'\u001b[0m in \u001b[0;36m<cell line: 7>\u001b[1;34m()\u001b[0m\n\u001b[0;32m      <a href='vscode-notebook-cell:/c%3A/Users/ende/Desktop/test/notebooks/final.ipynb#ch0000002?line=4'>5</a>\u001b[0m \u001b[39m#'https://github.com/Endework/Forcast'\u001b[39;00m\n\u001b[0;32m      <a href='vscode-notebook-cell:/c%3A/Users/ende/Desktop/test/notebooks/final.ipynb#ch0000002?line=5'>6</a>\u001b[0m version \u001b[39m=\u001b[39m \u001b[39m'\u001b[39m\u001b[39mv21\u001b[39m\u001b[39m'\u001b[39m\n\u001b[1;32m----> <a href='vscode-notebook-cell:/c%3A/Users/ende/Desktop/test/notebooks/final.ipynb#ch0000002?line=6'>7</a>\u001b[0m data_url \u001b[39m=\u001b[39m dvc\u001b[39m.\u001b[39;49mapi\u001b[39m.\u001b[39;49mget_url(\n\u001b[0;32m      <a href='vscode-notebook-cell:/c%3A/Users/ende/Desktop/test/notebooks/final.ipynb#ch0000002?line=7'>8</a>\u001b[0m     path \u001b[39m=\u001b[39;49m path,\n\u001b[0;32m      <a href='vscode-notebook-cell:/c%3A/Users/ende/Desktop/test/notebooks/final.ipynb#ch0000002?line=8'>9</a>\u001b[0m     repo \u001b[39m=\u001b[39;49m repo,\n\u001b[0;32m     <a href='vscode-notebook-cell:/c%3A/Users/ende/Desktop/test/notebooks/final.ipynb#ch0000002?line=9'>10</a>\u001b[0m     rev \u001b[39m=\u001b[39;49m version\n\u001b[0;32m     <a href='vscode-notebook-cell:/c%3A/Users/ende/Desktop/test/notebooks/final.ipynb#ch0000002?line=10'>11</a>\u001b[0m )\n",
      "File \u001b[1;32mc:\\Users\\ende\\AppData\\Local\\Programs\\Python\\Python38-32\\lib\\site-packages\\dvc\\api.py:28\u001b[0m, in \u001b[0;36mget_url\u001b[1;34m(path, repo, rev, remote)\u001b[0m\n\u001b[0;32m     <a href='file:///c%3A/Users/ende/AppData/Local/Programs/Python/Python38-32/lib/site-packages/dvc/api.py?line=16'>17</a>\u001b[0m \u001b[39mdef\u001b[39;00m \u001b[39mget_url\u001b[39m(path, repo\u001b[39m=\u001b[39m\u001b[39mNone\u001b[39;00m, rev\u001b[39m=\u001b[39m\u001b[39mNone\u001b[39;00m, remote\u001b[39m=\u001b[39m\u001b[39mNone\u001b[39;00m):\n\u001b[0;32m     <a href='file:///c%3A/Users/ende/AppData/Local/Programs/Python/Python38-32/lib/site-packages/dvc/api.py?line=17'>18</a>\u001b[0m     \u001b[39m\"\"\"\u001b[39;00m\n\u001b[0;32m     <a href='file:///c%3A/Users/ende/AppData/Local/Programs/Python/Python38-32/lib/site-packages/dvc/api.py?line=18'>19</a>\u001b[0m \u001b[39m    Returns the URL to the storage location of a data file or directory tracked\u001b[39;00m\n\u001b[0;32m     <a href='file:///c%3A/Users/ende/AppData/Local/Programs/Python/Python38-32/lib/site-packages/dvc/api.py?line=19'>20</a>\u001b[0m \u001b[39m    in a DVC repo. For Git repos, HEAD is used unless a rev argument is\u001b[39;00m\n\u001b[1;32m   (...)\u001b[0m\n\u001b[0;32m     <a href='file:///c%3A/Users/ende/AppData/Local/Programs/Python/Python38-32/lib/site-packages/dvc/api.py?line=25'>26</a>\u001b[0m \u001b[39m    directory in the remote storage.\u001b[39;00m\n\u001b[0;32m     <a href='file:///c%3A/Users/ende/AppData/Local/Programs/Python/Python38-32/lib/site-packages/dvc/api.py?line=26'>27</a>\u001b[0m \u001b[39m    \"\"\"\u001b[39;00m\n\u001b[1;32m---> <a href='file:///c%3A/Users/ende/AppData/Local/Programs/Python/Python38-32/lib/site-packages/dvc/api.py?line=27'>28</a>\u001b[0m     \u001b[39mwith\u001b[39;00m _make_repo(repo, rev\u001b[39m=\u001b[39mrev) \u001b[39mas\u001b[39;00m _repo:\n\u001b[0;32m     <a href='file:///c%3A/Users/ende/AppData/Local/Programs/Python/Python38-32/lib/site-packages/dvc/api.py?line=28'>29</a>\u001b[0m         path_info \u001b[39m=\u001b[39m PathInfo(_repo\u001b[39m.\u001b[39mroot_dir) \u001b[39m/\u001b[39m path\n\u001b[0;32m     <a href='file:///c%3A/Users/ende/AppData/Local/Programs/Python/Python38-32/lib/site-packages/dvc/api.py?line=29'>30</a>\u001b[0m         \u001b[39mwith\u001b[39;00m reraise(\u001b[39mFileNotFoundError\u001b[39;00m, PathMissingError(path, repo)):\n",
      "File \u001b[1;32mc:\\Users\\ende\\AppData\\Local\\Programs\\Python\\Python38-32\\lib\\contextlib.py:113\u001b[0m, in \u001b[0;36m_GeneratorContextManager.__enter__\u001b[1;34m(self)\u001b[0m\n\u001b[0;32m    <a href='file:///c%3A/Users/ende/AppData/Local/Programs/Python/Python38-32/lib/contextlib.py?line=110'>111</a>\u001b[0m \u001b[39mdel\u001b[39;00m \u001b[39mself\u001b[39m\u001b[39m.\u001b[39margs, \u001b[39mself\u001b[39m\u001b[39m.\u001b[39mkwds, \u001b[39mself\u001b[39m\u001b[39m.\u001b[39mfunc\n\u001b[0;32m    <a href='file:///c%3A/Users/ende/AppData/Local/Programs/Python/Python38-32/lib/contextlib.py?line=111'>112</a>\u001b[0m \u001b[39mtry\u001b[39;00m:\n\u001b[1;32m--> <a href='file:///c%3A/Users/ende/AppData/Local/Programs/Python/Python38-32/lib/contextlib.py?line=112'>113</a>\u001b[0m     \u001b[39mreturn\u001b[39;00m \u001b[39mnext\u001b[39;49m(\u001b[39mself\u001b[39;49m\u001b[39m.\u001b[39;49mgen)\n\u001b[0;32m    <a href='file:///c%3A/Users/ende/AppData/Local/Programs/Python/Python38-32/lib/contextlib.py?line=113'>114</a>\u001b[0m \u001b[39mexcept\u001b[39;00m \u001b[39mStopIteration\u001b[39;00m:\n\u001b[0;32m    <a href='file:///c%3A/Users/ende/AppData/Local/Programs/Python/Python38-32/lib/contextlib.py?line=114'>115</a>\u001b[0m     \u001b[39mraise\u001b[39;00m \u001b[39mRuntimeError\u001b[39;00m(\u001b[39m\"\u001b[39m\u001b[39mgenerator didn\u001b[39m\u001b[39m'\u001b[39m\u001b[39mt yield\u001b[39m\u001b[39m\"\u001b[39m) \u001b[39mfrom\u001b[39;00m \u001b[39mNone\u001b[39m\n",
      "File \u001b[1;32mc:\\Users\\ende\\AppData\\Local\\Programs\\Python\\Python38-32\\lib\\site-packages\\dvc\\api.py:109\u001b[0m, in \u001b[0;36m_make_repo\u001b[1;34m(repo_url, rev)\u001b[0m\n\u001b[0;32m    <a href='file:///c%3A/Users/ende/AppData/Local/Programs/Python/Python38-32/lib/site-packages/dvc/api.py?line=106'>107</a>\u001b[0m     \u001b[39mexcept\u001b[39;00m NotDvcRepoError:\n\u001b[0;32m    <a href='file:///c%3A/Users/ende/AppData/Local/Programs/Python/Python38-32/lib/site-packages/dvc/api.py?line=107'>108</a>\u001b[0m         \u001b[39mpass\u001b[39;00m  \u001b[39m# fallthrough to external_repo\u001b[39;00m\n\u001b[1;32m--> <a href='file:///c%3A/Users/ende/AppData/Local/Programs/Python/Python38-32/lib/site-packages/dvc/api.py?line=108'>109</a>\u001b[0m \u001b[39mwith\u001b[39;00m external_repo(url\u001b[39m=\u001b[39mrepo_url, rev\u001b[39m=\u001b[39mrev) \u001b[39mas\u001b[39;00m repo:\n\u001b[0;32m    <a href='file:///c%3A/Users/ende/AppData/Local/Programs/Python/Python38-32/lib/site-packages/dvc/api.py?line=109'>110</a>\u001b[0m     \u001b[39myield\u001b[39;00m repo\n",
      "File \u001b[1;32mc:\\Users\\ende\\AppData\\Local\\Programs\\Python\\Python38-32\\lib\\contextlib.py:113\u001b[0m, in \u001b[0;36m_GeneratorContextManager.__enter__\u001b[1;34m(self)\u001b[0m\n\u001b[0;32m    <a href='file:///c%3A/Users/ende/AppData/Local/Programs/Python/Python38-32/lib/contextlib.py?line=110'>111</a>\u001b[0m \u001b[39mdel\u001b[39;00m \u001b[39mself\u001b[39m\u001b[39m.\u001b[39margs, \u001b[39mself\u001b[39m\u001b[39m.\u001b[39mkwds, \u001b[39mself\u001b[39m\u001b[39m.\u001b[39mfunc\n\u001b[0;32m    <a href='file:///c%3A/Users/ende/AppData/Local/Programs/Python/Python38-32/lib/contextlib.py?line=111'>112</a>\u001b[0m \u001b[39mtry\u001b[39;00m:\n\u001b[1;32m--> <a href='file:///c%3A/Users/ende/AppData/Local/Programs/Python/Python38-32/lib/contextlib.py?line=112'>113</a>\u001b[0m     \u001b[39mreturn\u001b[39;00m \u001b[39mnext\u001b[39;49m(\u001b[39mself\u001b[39;49m\u001b[39m.\u001b[39;49mgen)\n\u001b[0;32m    <a href='file:///c%3A/Users/ende/AppData/Local/Programs/Python/Python38-32/lib/contextlib.py?line=113'>114</a>\u001b[0m \u001b[39mexcept\u001b[39;00m \u001b[39mStopIteration\u001b[39;00m:\n\u001b[0;32m    <a href='file:///c%3A/Users/ende/AppData/Local/Programs/Python/Python38-32/lib/contextlib.py?line=114'>115</a>\u001b[0m     \u001b[39mraise\u001b[39;00m \u001b[39mRuntimeError\u001b[39;00m(\u001b[39m\"\u001b[39m\u001b[39mgenerator didn\u001b[39m\u001b[39m'\u001b[39m\u001b[39mt yield\u001b[39m\u001b[39m\"\u001b[39m) \u001b[39mfrom\u001b[39;00m \u001b[39mNone\u001b[39m\n",
      "File \u001b[1;32mc:\\Users\\ende\\AppData\\Local\\Programs\\Python\\Python38-32\\lib\\site-packages\\dvc\\external_repo.py:56\u001b[0m, in \u001b[0;36mexternal_repo\u001b[1;34m(url, rev, for_write, **kwargs)\u001b[0m\n\u001b[0;32m     <a href='file:///c%3A/Users/ende/AppData/Local/Programs/Python/Python38-32/lib/site-packages/dvc/external_repo.py?line=45'>46</a>\u001b[0m root_dir \u001b[39m=\u001b[39m path \u001b[39mif\u001b[39;00m for_write \u001b[39melse\u001b[39;00m os\u001b[39m.\u001b[39mpath\u001b[39m.\u001b[39mrealpath(path)\n\u001b[0;32m     <a href='file:///c%3A/Users/ende/AppData/Local/Programs/Python/Python38-32/lib/site-packages/dvc/external_repo.py?line=46'>47</a>\u001b[0m conf \u001b[39m=\u001b[39m \u001b[39mdict\u001b[39m(\n\u001b[0;32m     <a href='file:///c%3A/Users/ende/AppData/Local/Programs/Python/Python38-32/lib/site-packages/dvc/external_repo.py?line=47'>48</a>\u001b[0m     root_dir\u001b[39m=\u001b[39mroot_dir,\n\u001b[0;32m     <a href='file:///c%3A/Users/ende/AppData/Local/Programs/Python/Python38-32/lib/site-packages/dvc/external_repo.py?line=48'>49</a>\u001b[0m     url\u001b[39m=\u001b[39murl,\n\u001b[1;32m   (...)\u001b[0m\n\u001b[0;32m     <a href='file:///c%3A/Users/ende/AppData/Local/Programs/Python/Python38-32/lib/site-packages/dvc/external_repo.py?line=53'>54</a>\u001b[0m     \u001b[39m*\u001b[39m\u001b[39m*\u001b[39mkwargs,\n\u001b[0;32m     <a href='file:///c%3A/Users/ende/AppData/Local/Programs/Python/Python38-32/lib/site-packages/dvc/external_repo.py?line=54'>55</a>\u001b[0m )\n\u001b[1;32m---> <a href='file:///c%3A/Users/ende/AppData/Local/Programs/Python/Python38-32/lib/site-packages/dvc/external_repo.py?line=55'>56</a>\u001b[0m repo \u001b[39m=\u001b[39m ExternalRepo(\u001b[39m*\u001b[39;49m\u001b[39m*\u001b[39;49mconf)\n\u001b[0;32m     <a href='file:///c%3A/Users/ende/AppData/Local/Programs/Python/Python38-32/lib/site-packages/dvc/external_repo.py?line=57'>58</a>\u001b[0m \u001b[39mtry\u001b[39;00m:\n\u001b[0;32m     <a href='file:///c%3A/Users/ende/AppData/Local/Programs/Python/Python38-32/lib/site-packages/dvc/external_repo.py?line=58'>59</a>\u001b[0m     \u001b[39myield\u001b[39;00m repo\n",
      "File \u001b[1;32mc:\\Users\\ende\\AppData\\Local\\Programs\\Python\\Python38-32\\lib\\site-packages\\dvc\\external_repo.py:105\u001b[0m, in \u001b[0;36mExternalRepo.__init__\u001b[1;34m(self, root_dir, url, scm, rev, for_write, cache_dir, cache_types, uninitialized, **kwargs)\u001b[0m\n\u001b[0;32m     <a href='file:///c%3A/Users/ende/AppData/Local/Programs/Python/Python38-32/lib/site-packages/dvc/external_repo.py?line=92'>93</a>\u001b[0m \u001b[39mdef\u001b[39;00m \u001b[39m__init__\u001b[39m(\n\u001b[0;32m     <a href='file:///c%3A/Users/ende/AppData/Local/Programs/Python/Python38-32/lib/site-packages/dvc/external_repo.py?line=93'>94</a>\u001b[0m     \u001b[39mself\u001b[39m,\n\u001b[0;32m     <a href='file:///c%3A/Users/ende/AppData/Local/Programs/Python/Python38-32/lib/site-packages/dvc/external_repo.py?line=94'>95</a>\u001b[0m     root_dir,\n\u001b[1;32m   (...)\u001b[0m\n\u001b[0;32m    <a href='file:///c%3A/Users/ende/AppData/Local/Programs/Python/Python38-32/lib/site-packages/dvc/external_repo.py?line=102'>103</a>\u001b[0m     \u001b[39m*\u001b[39m\u001b[39m*\u001b[39mkwargs,\n\u001b[0;32m    <a href='file:///c%3A/Users/ende/AppData/Local/Programs/Python/Python38-32/lib/site-packages/dvc/external_repo.py?line=103'>104</a>\u001b[0m ):\n\u001b[1;32m--> <a href='file:///c%3A/Users/ende/AppData/Local/Programs/Python/Python38-32/lib/site-packages/dvc/external_repo.py?line=104'>105</a>\u001b[0m     \u001b[39msuper\u001b[39;49m()\u001b[39m.\u001b[39;49m\u001b[39m__init__\u001b[39;49m(\n\u001b[0;32m    <a href='file:///c%3A/Users/ende/AppData/Local/Programs/Python/Python38-32/lib/site-packages/dvc/external_repo.py?line=105'>106</a>\u001b[0m         root_dir, scm\u001b[39m=\u001b[39;49mscm, rev\u001b[39m=\u001b[39;49mrev, uninitialized\u001b[39m=\u001b[39;49muninitialized\n\u001b[0;32m    <a href='file:///c%3A/Users/ende/AppData/Local/Programs/Python/Python38-32/lib/site-packages/dvc/external_repo.py?line=106'>107</a>\u001b[0m     )\n\u001b[0;32m    <a href='file:///c%3A/Users/ende/AppData/Local/Programs/Python/Python38-32/lib/site-packages/dvc/external_repo.py?line=108'>109</a>\u001b[0m     \u001b[39mself\u001b[39m\u001b[39m.\u001b[39murl \u001b[39m=\u001b[39m url\n\u001b[0;32m    <a href='file:///c%3A/Users/ende/AppData/Local/Programs/Python/Python38-32/lib/site-packages/dvc/external_repo.py?line=109'>110</a>\u001b[0m     \u001b[39mself\u001b[39m\u001b[39m.\u001b[39mfor_write \u001b[39m=\u001b[39m for_write\n",
      "File \u001b[1;32mc:\\Users\\ende\\AppData\\Local\\Programs\\Python\\Python38-32\\lib\\site-packages\\dvc\\repo\\__init__.py:105\u001b[0m, in \u001b[0;36mRepo.__init__\u001b[1;34m(self, root_dir, scm, rev, subrepos, uninitialized)\u001b[0m\n\u001b[0;32m    <a href='file:///c%3A/Users/ende/AppData/Local/Programs/Python/Python38-32/lib/site-packages/dvc/repo/__init__.py?line=101'>102</a>\u001b[0m \u001b[39mfrom\u001b[39;00m \u001b[39mdvc\u001b[39;00m\u001b[39m.\u001b[39;00m\u001b[39mutils\u001b[39;00m\u001b[39m.\u001b[39;00m\u001b[39mfs\u001b[39;00m \u001b[39mimport\u001b[39;00m makedirs\n\u001b[0;32m    <a href='file:///c%3A/Users/ende/AppData/Local/Programs/Python/Python38-32/lib/site-packages/dvc/repo/__init__.py?line=103'>104</a>\u001b[0m \u001b[39mtry\u001b[39;00m:\n\u001b[1;32m--> <a href='file:///c%3A/Users/ende/AppData/Local/Programs/Python/Python38-32/lib/site-packages/dvc/repo/__init__.py?line=104'>105</a>\u001b[0m     tree \u001b[39m=\u001b[39m scm\u001b[39m.\u001b[39;49mget_tree(rev) \u001b[39mif\u001b[39;00m rev \u001b[39melse\u001b[39;00m \u001b[39mNone\u001b[39;00m\n\u001b[0;32m    <a href='file:///c%3A/Users/ende/AppData/Local/Programs/Python/Python38-32/lib/site-packages/dvc/repo/__init__.py?line=105'>106</a>\u001b[0m     \u001b[39mself\u001b[39m\u001b[39m.\u001b[39mroot_dir \u001b[39m=\u001b[39m \u001b[39mself\u001b[39m\u001b[39m.\u001b[39mfind_root(root_dir, tree)\n\u001b[0;32m    <a href='file:///c%3A/Users/ende/AppData/Local/Programs/Python/Python38-32/lib/site-packages/dvc/repo/__init__.py?line=106'>107</a>\u001b[0m     \u001b[39mself\u001b[39m\u001b[39m.\u001b[39mdvc_dir \u001b[39m=\u001b[39m os\u001b[39m.\u001b[39mpath\u001b[39m.\u001b[39mjoin(\u001b[39mself\u001b[39m\u001b[39m.\u001b[39mroot_dir, \u001b[39mself\u001b[39m\u001b[39m.\u001b[39mDVC_DIR)\n",
      "File \u001b[1;32mc:\\Users\\ende\\AppData\\Local\\Programs\\Python\\Python38-32\\lib\\site-packages\\dvc\\scm\\git.py:405\u001b[0m, in \u001b[0;36mGit.get_tree\u001b[1;34m(self, rev, **kwargs)\u001b[0m\n\u001b[0;32m    <a href='file:///c%3A/Users/ende/AppData/Local/Programs/Python/Python38-32/lib/site-packages/dvc/scm/git.py?line=401'>402</a>\u001b[0m \u001b[39mdef\u001b[39;00m \u001b[39mget_tree\u001b[39m(\u001b[39mself\u001b[39m, rev, \u001b[39m*\u001b[39m\u001b[39m*\u001b[39mkwargs):\n\u001b[0;32m    <a href='file:///c%3A/Users/ende/AppData/Local/Programs/Python/Python38-32/lib/site-packages/dvc/scm/git.py?line=402'>403</a>\u001b[0m     \u001b[39mfrom\u001b[39;00m \u001b[39mdvc\u001b[39;00m\u001b[39m.\u001b[39;00m\u001b[39mtree\u001b[39;00m\u001b[39m.\u001b[39;00m\u001b[39mgit\u001b[39;00m \u001b[39mimport\u001b[39;00m GitTree\n\u001b[1;32m--> <a href='file:///c%3A/Users/ende/AppData/Local/Programs/Python/Python38-32/lib/site-packages/dvc/scm/git.py?line=404'>405</a>\u001b[0m     \u001b[39mreturn\u001b[39;00m GitTree(\u001b[39mself\u001b[39m\u001b[39m.\u001b[39mrepo, \u001b[39mself\u001b[39;49m\u001b[39m.\u001b[39;49mresolve_rev(rev), \u001b[39m*\u001b[39m\u001b[39m*\u001b[39mkwargs)\n",
      "File \u001b[1;32mc:\\Users\\ende\\AppData\\Local\\Programs\\Python\\Python38-32\\lib\\site-packages\\dvc\\scm\\git.py:442\u001b[0m, in \u001b[0;36mGit.resolve_rev\u001b[1;34m(self, rev)\u001b[0m\n\u001b[0;32m    <a href='file:///c%3A/Users/ende/AppData/Local/Programs/Python/Python38-32/lib/site-packages/dvc/scm/git.py?line=438'>439</a>\u001b[0m     \u001b[39mif\u001b[39;00m \u001b[39mlen\u001b[39m(shas) \u001b[39m==\u001b[39m \u001b[39m1\u001b[39m:\n\u001b[0;32m    <a href='file:///c%3A/Users/ende/AppData/Local/Programs/Python/Python38-32/lib/site-packages/dvc/scm/git.py?line=439'>440</a>\u001b[0m         \u001b[39mreturn\u001b[39;00m shas\u001b[39m.\u001b[39mpop()\n\u001b[1;32m--> <a href='file:///c%3A/Users/ende/AppData/Local/Programs/Python/Python38-32/lib/site-packages/dvc/scm/git.py?line=441'>442</a>\u001b[0m \u001b[39mraise\u001b[39;00m RevError(\u001b[39mf\u001b[39m\u001b[39m\"\u001b[39m\u001b[39munknown Git revision \u001b[39m\u001b[39m'\u001b[39m\u001b[39m{\u001b[39;00mrev\u001b[39m}\u001b[39;00m\u001b[39m'\u001b[39m\u001b[39m\"\u001b[39m)\n",
      "\u001b[1;31mRevError\u001b[0m: unknown Git revision 'v21'"
     ]
    }
   ],
   "source": [
    "import dvc.api\n",
    "\n",
    "path = '../data/final.csv'\n",
    "repo =r\"C:\\Users\\ende\\test\"\n",
    "#'https://github.com/Endework/Forcast'\n",
    "version = 'v21'\n",
    "data_url = dvc.api.get_url(\n",
    "    path = path,\n",
    "    repo = repo,\n",
    "    rev = version\n",
    ")"
   ]
  },
  {
   "cell_type": "code",
   "execution_count": 17,
   "metadata": {},
   "outputs": [],
   "source": [
    "from git.objects.tag import TagObject"
   ]
  },
  {
   "cell_type": "code",
   "execution_count": null,
   "metadata": {},
   "outputs": [],
   "source": [
    "\n",
    "np.random.seed(40)\n",
    "\n",
    "# Read the AdSmartABdata csv file from remote repositery\n",
    "test = pd.read_csv(data_url2, sep=\",\")\n",
    "train = pd.read_csv(data_url1, sep=\",\")\n",
    "\n",
    "    "
   ]
  }
 ],
 "metadata": {
  "interpreter": {
   "hash": "6669e905d54c68397e1c4ba277d51b7f25883f0f5329505f19619a9136390d6d"
  },
  "kernelspec": {
   "display_name": "Python 3.8.3 32-bit",
   "language": "python",
   "name": "python3"
  },
  "language_info": {
   "codemirror_mode": {
    "name": "ipython",
    "version": 3
   },
   "file_extension": ".py",
   "mimetype": "text/x-python",
   "name": "python",
   "nbconvert_exporter": "python",
   "pygments_lexer": "ipython3",
   "version": "3.8.3"
  },
  "orig_nbformat": 4
 },
 "nbformat": 4,
 "nbformat_minor": 2
}
