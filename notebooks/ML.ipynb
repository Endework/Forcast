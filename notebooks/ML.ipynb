{
 "cells": [
  {
   "cell_type": "markdown",
   "metadata": {},
   "source": [
    "### Loading Libraries we will use in the project"
   ]
  },
  {
   "cell_type": "code",
   "execution_count": null,
   "metadata": {},
   "outputs": [],
   "source": [
    "import os\n",
    "import sys\n",
    "sys.path.append(os.path.abspath(os.path.join('../scripts')))"
   ]
  },
  {
   "cell_type": "code",
   "execution_count": null,
   "metadata": {},
   "outputs": [],
   "source": [
    "import sys\n",
    "!pip install dvc"
   ]
  },
  {
   "cell_type": "code",
   "execution_count": null,
   "metadata": {},
   "outputs": [],
   "source": [
    "# import libraries\n",
    "import pandas as pd\n",
    "import seaborn as sb\n",
    "import matplotlib.pyplot as plt\n",
    "import numpy as np\n",
    "%matplotlib inline\n",
    "from sklearn import preprocessing\n",
    "from itertools import islice\n",
    "import seaborn as sns\n",
    "from sklearn.model_selection import train_test_split\n",
    "from sklearn.model_selection import KFold\n",
    "import statsmodels.api as sm\n",
    "from sklearn.metrics import mean_squared_error, r2_score, mean_absolute_error\n",
    "from sklearn.linear_model import LogisticRegression\n",
    "from sklearn import metrics\n",
    "import scipy.stats as stat\n",
    "from sklearn.metrics import accuracy_score\n",
    "from sklearn.tree import DecisionTreeClassifier\n",
    "from xgboost import XGBClassifier\n",
    "from sklearn.preprocessing import StandardScaler\n",
    "from sklearn.model_selection import cross_val_score\n",
    "from sklearn.preprocessing import LabelEncoder\n",
    "from six import StringIO\n",
    "from IPython.display import Image  \n",
    "from sklearn.tree import export_graphviz\n",
    "from IPython.display import Image  \n",
    "\n",
    "from sklearn.tree import export_graphviz\n",
    "import pydotplus\n",
    "from sklearn import tree\n",
    "\n",
    "\n",
    "import warnings\n",
    "warnings.filterwarnings('ignore')\n",
    "import dvc.api"
   ]
  },
  {
   "cell_type": "markdown",
   "metadata": {},
   "source": [
    "### Importing scripts & modules "
   ]
  },
  {
   "cell_type": "code",
   "execution_count": null,
   "metadata": {},
   "outputs": [],
   "source": [
    "from decision import DecisionTreesModel\n",
    "from logestic import LogesticRegressionModel\n",
    "\n",
    "from helper import MyHelper\n",
    "import utility\n",
    "import plots\n",
    "Helper = MyHelper()\n"
   ]
  },
  {
   "cell_type": "markdown",
   "metadata": {},
   "source": [
    "### Loading the data"
   ]
  },
  {
   "cell_type": "code",
   "execution_count": null,
   "metadata": {},
   "outputs": [],
   "source": [
    "CSV_PATH = \"../Data\\\\trainfinal.csv\"\n",
    "data_frame = Helper.read_csv(CSV_PATH)"
   ]
  },
  {
   "cell_type": "code",
   "execution_count": null,
   "metadata": {},
   "outputs": [],
   "source": [
    "def get_data(tag, \n",
    "            path='data\\\\trainfinal.csv', \n",
    "            repo =r'C:\\Users\\ende\\Desktop\\test'\n",
    "):\n",
    "    rev = tag\n",
    "    data_url = dvc.api.get_url(path=path, repo=repo, rev=rev)\n",
    "    df = pd.read_csv(data_url)\n",
    "    return df"
   ]
  },
  {
   "cell_type": "markdown",
   "metadata": {},
   "source": [
    "### change categorical variables to numerical value\n"
   ]
  },
  {
   "cell_type": "code",
   "execution_count": null,
   "metadata": {},
   "outputs": [],
   "source": [
    "data_frame.info()"
   ]
  },
  {
   "cell_type": "markdown",
   "metadata": {},
   "source": [
    "### correcting the data types for each column"
   ]
  },
  {
   "cell_type": "code",
   "execution_count": null,
   "metadata": {},
   "outputs": [],
   "source": [
    "data_frame['Date']=pd.to_datetime(data_frame['Date'])\n",
    "data_frame['date']=pd.to_datetime(data_frame['date'])\n",
    "\n",
    "\n"
   ]
  },
  {
   "cell_type": "code",
   "execution_count": null,
   "metadata": {},
   "outputs": [],
   "source": [
    "data_frame.Store.unique()"
   ]
  },
  {
   "cell_type": "code",
   "execution_count": null,
   "metadata": {},
   "outputs": [],
   "source": [
    "data_frame.info()"
   ]
  },
  {
   "cell_type": "code",
   "execution_count": null,
   "metadata": {},
   "outputs": [],
   "source": [
    "# change categorical variables to numerical value\n",
    "lb = LabelEncoder()\n",
    "data_frame['Assortment'] = lb.fit_transform(data_frame['Assortment'])\n",
    "data_frame['StateHoliday'] = lb.fit_transform(data_frame['StateHoliday'])\n",
    "data_frame['SchoolHoliday'] = lb.fit_transform(data_frame['SchoolHoliday'])\n",
    "data_frame['StoreType'] = lb.fit_transform(data_frame['StoreType'])\n",
    "data_frame['Promo2'] = lb.fit_transform(data_frame['Promo2'])\n",
    "data_frame['Promo'] = lb.fit_transform(data_frame['Promo'])\n",
    "data_frame['Open'] = lb.fit_transform(data_frame['Open'])\n",
    "\n",
    "\n",
    "\n"
   ]
  },
  {
   "cell_type": "markdown",
   "metadata": {},
   "source": [
    "### Loading the different versions of data into separate dataframe"
   ]
  },
  {
   "cell_type": "code",
   "execution_count": null,
   "metadata": {},
   "outputs": [],
   "source": [
    "train = get_data('v7')\n",
    "#platform_df = get_data('version4')"
   ]
  },
  {
   "cell_type": "markdown",
   "metadata": {},
   "source": [
    "#### 1 Model training using Decision Tree\n"
   ]
  },
  {
   "cell_type": "markdown",
   "metadata": {},
   "source": [
    "Train Test Split\n"
   ]
  },
  {
   "cell_type": "code",
   "execution_count": null,
   "metadata": {},
   "outputs": [],
   "source": [
    "# feature_cols = [\"experiment\", \"hour\", \"date\", 'device_make', \"platform_os\",  \"browser\"]\n",
    "feature_cols = ['Store','DayOfWeek','DateCustomers','Open','Promo','StateHoliday','SchoolHoliday','StoreType','Assortment','CompetitionDistance','Promo','date']\n",
    "\n",
    "X = train[feature_cols]\n",
    "y = train[['Sale']]\n",
    "\n",
    "test_size = 0.1\n",
    "\n",
    "X_train, X_test, y_train, y_test = train_test_split(X, y, test_size=test_size, random_state=42)"
   ]
  },
  {
   "cell_type": "markdown",
   "metadata": {},
   "source": [
    "# Model Training Using DecisionTreesModel"
   ]
  },
  {
   "cell_type": "code",
   "execution_count": null,
   "metadata": {},
   "outputs": [],
   "source": [
    "decisionTreesModel = DecisionTreesModel(X_train, X_test,  y_train, y_test)\n",
    "\n",
    "clf, acc_arr, loss_arr = decisionTreesModel.train(5)"
   ]
  },
  {
   "cell_type": "markdown",
   "metadata": {},
   "source": [
    "Evaluating our model"
   ]
  },
  {
   "cell_type": "code",
   "execution_count": null,
   "metadata": {},
   "outputs": [],
   "source": [
    "test_acc, loss, report, confusion_matrix = decisionTreesModel.test()\n",
    "print(f\"Loss on test data is: {loss:.3f}\")\n",
    "print()"
   ]
  },
  {
   "cell_type": "markdown",
   "metadata": {},
   "source": [
    "Calculating feature importance"
   ]
  },
  {
   "cell_type": "code",
   "execution_count": null,
   "metadata": {},
   "outputs": [],
   "source": [
    "decisionTreesModel.get_feature_importance()"
   ]
  },
  {
   "cell_type": "markdown",
   "metadata": {},
   "source": [
    "## Visualzing feature importance"
   ]
  },
  {
   "cell_type": "code",
   "execution_count": null,
   "metadata": {},
   "outputs": [],
   "source": [
    "\n",
    "dot_data = StringIO()\n",
    "\n",
    "leaves_parallel=False\n",
    "feature_cols = ['Store','DayOfWeek','DateCustomers','Open','Promo','StateHoliday','SchoolHoliday','StoreType','Assortment','CompetitionDistance','Promo','date']\n",
    "out_put_file = \"AbTestDecisionTree.dot\"\n",
    "\n",
    "dot_data = export_graphviz(clf, out_file=out_put_file,  \n",
    "                filled=True, rounded=True,\n",
    "                special_characters=True, feature_names = feature_cols,class_names=['Aware','Not Aware'])\n",
    "\n",
    "graph = pydotplus.graphviz.graph_from_dot_file(out_put_file)\n",
    "graph.write_png('AbTestDecisionTree.png')\n",
    "\n",
    "Image(graph.create_png())"
   ]
  },
  {
   "cell_type": "code",
   "execution_count": null,
   "metadata": {},
   "outputs": [],
   "source": [
    "dot_data = StringIO()\n",
    "\n",
    "leaves_parallel=False\n",
    "feature_cols = ['Store','DayOfWeek','DateCustomers','Open','Promo','StateHoliday','SchoolHoliday','StoreType','Assortment','CompetitionDistance','Promo','date']\n",
    "out_put_file = \"forcast.dot\"\n",
    "\n",
    "dot_data = export_graphviz(clf, out_file=out_put_file,  \n",
    "                filled=True, rounded=True,\n",
    "                special_characters=True, feature_names = feature_cols,class_names=['Aware','Not Aware'])\n",
    "\n",
    "graph = pydotplus.graphviz.graph_from_dot_file(out_put_file)\n",
    "graph.write_png('forcast.png')\n",
    "\n",
    "Image(graph.create_png())"
   ]
  },
  {
   "cell_type": "markdown",
   "metadata": {},
   "source": [
    "Model Building using Logestic Regression"
   ]
  },
  {
   "cell_type": "markdown",
   "metadata": {},
   "source": [
    "2.1 Model training using Logestic Regression using browser dataframe"
   ]
  },
  {
   "cell_type": "code",
   "execution_count": null,
   "metadata": {},
   "outputs": [],
   "source": [
    "feature_cols = ['Store','DayOfWeek','DateCustomers','Open','Promo','StateHoliday','SchoolHoliday','StoreType','Assortment','CompetitionDistance','Promo','date']\n",
    "\n",
    "X = train[feature_cols]\n",
    "y = train[['Sales']]\n",
    "\n",
    "test_size = 0.1\n",
    "\n",
    "X_train, X_test, y_train, y_test = train_test_split(X, y, test_size=test_size, random_state=42)"
   ]
  },
  {
   "cell_type": "code",
   "execution_count": null,
   "metadata": {},
   "outputs": [],
   "source": [
    "logesticRegressionModel = LogesticRegressionModel(X_train, X_test,  y_train, y_test)\n",
    "\n",
    "clf2, loss_arr_2, acc_arr_2 = logesticRegressionModel.train(5)"
   ]
  },
  {
   "cell_type": "code",
   "execution_count": null,
   "metadata": {},
   "outputs": [],
   "source": [
    "test_acc2, test_loss2, report2, matrix2  = logesticRegressionModel.test()\n"
   ]
  },
  {
   "cell_type": "markdown",
   "metadata": {},
   "source": []
  }
 ],
 "metadata": {
  "interpreter": {
   "hash": "9b7d426eed365029940cc2da1629aed3d3f5bb985c016bbcb41ed7ea793a7eb0"
  },
  "kernelspec": {
   "display_name": "Python 3.8.8 ('base')",
   "language": "python",
   "name": "python3"
  },
  "language_info": {
   "codemirror_mode": {
    "name": "ipython",
    "version": 3
   },
   "file_extension": ".py",
   "mimetype": "text/x-python",
   "name": "python",
   "nbconvert_exporter": "python",
   "pygments_lexer": "ipython3",
   "version": "3.8.8"
  }
 },
 "nbformat": 4,
 "nbformat_minor": 4
}
