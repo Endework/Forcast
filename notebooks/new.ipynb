{
 "cells": [
  {
   "cell_type": "code",
   "execution_count": 2,
   "metadata": {},
   "outputs": [],
   "source": [
    "import pandas as pd\n",
    "import numpy as np\n"
   ]
  },
  {
   "cell_type": "code",
   "execution_count": 15,
   "metadata": {},
   "outputs": [],
   "source": [
    "import os\n",
    "import sys\n",
    "sys.path.append(os.path.abspath(os.path.join('../notebooks')))"
   ]
  },
  {
   "cell_type": "code",
   "execution_count": 30,
   "metadata": {},
   "outputs": [
    {
     "name": "stderr",
     "output_type": "stream",
     "text": [
      "C:\\Users\\ende\\AppData\\Local\\Temp\\ipykernel_6004\\2869953929.py:2: DtypeWarning: Columns (7) have mixed types. Specify dtype option on import or set low_memory=False.\n",
      "  df_train=pd.read_csv(\"../data\\\\train.csv\")\n"
     ]
    }
   ],
   "source": [
    "df_store=pd.read_csv(\"../data\\store.csv\")\n",
    "df_train=pd.read_csv(\"../data\\\\train.csv\")\n",
    "df_test=pd.read_csv(\"../data\\\\test.csv\")\n",
    "\n",
    "\n"
   ]
  },
  {
   "cell_type": "code",
   "execution_count": 31,
   "metadata": {},
   "outputs": [
    {
     "data": {
      "text/html": [
       "<div>\n",
       "<style scoped>\n",
       "    .dataframe tbody tr th:only-of-type {\n",
       "        vertical-align: middle;\n",
       "    }\n",
       "\n",
       "    .dataframe tbody tr th {\n",
       "        vertical-align: top;\n",
       "    }\n",
       "\n",
       "    .dataframe thead th {\n",
       "        text-align: right;\n",
       "    }\n",
       "</style>\n",
       "<table border=\"1\" class=\"dataframe\">\n",
       "  <thead>\n",
       "    <tr style=\"text-align: right;\">\n",
       "      <th></th>\n",
       "      <th>Store</th>\n",
       "      <th>StoreType</th>\n",
       "      <th>Assortment</th>\n",
       "      <th>CompetitionDistance</th>\n",
       "      <th>CompetitionOpenSinceMonth</th>\n",
       "      <th>CompetitionOpenSinceYear</th>\n",
       "      <th>Promo2</th>\n",
       "      <th>Promo2SinceWeek</th>\n",
       "      <th>Promo2SinceYear</th>\n",
       "      <th>PromoInterval</th>\n",
       "    </tr>\n",
       "  </thead>\n",
       "  <tbody>\n",
       "    <tr>\n",
       "      <th>0</th>\n",
       "      <td>1</td>\n",
       "      <td>c</td>\n",
       "      <td>a</td>\n",
       "      <td>1270.0</td>\n",
       "      <td>9.0</td>\n",
       "      <td>2008.0</td>\n",
       "      <td>0</td>\n",
       "      <td>NaN</td>\n",
       "      <td>NaN</td>\n",
       "      <td>NaN</td>\n",
       "    </tr>\n",
       "    <tr>\n",
       "      <th>1</th>\n",
       "      <td>2</td>\n",
       "      <td>a</td>\n",
       "      <td>a</td>\n",
       "      <td>570.0</td>\n",
       "      <td>11.0</td>\n",
       "      <td>2007.0</td>\n",
       "      <td>1</td>\n",
       "      <td>13.0</td>\n",
       "      <td>2010.0</td>\n",
       "      <td>Jan,Apr,Jul,Oct</td>\n",
       "    </tr>\n",
       "  </tbody>\n",
       "</table>\n",
       "</div>"
      ],
      "text/plain": [
       "   Store StoreType Assortment  CompetitionDistance  CompetitionOpenSinceMonth  \\\n",
       "0      1         c          a               1270.0                        9.0   \n",
       "1      2         a          a                570.0                       11.0   \n",
       "\n",
       "   CompetitionOpenSinceYear  Promo2  Promo2SinceWeek  Promo2SinceYear  \\\n",
       "0                    2008.0       0              NaN              NaN   \n",
       "1                    2007.0       1             13.0           2010.0   \n",
       "\n",
       "     PromoInterval  \n",
       "0              NaN  \n",
       "1  Jan,Apr,Jul,Oct  "
      ]
     },
     "execution_count": 31,
     "metadata": {},
     "output_type": "execute_result"
    }
   ],
   "source": [
    "df_store.head(2)"
   ]
  },
  {
   "cell_type": "code",
   "execution_count": 34,
   "metadata": {},
   "outputs": [
    {
     "data": {
      "text/html": [
       "<div>\n",
       "<style scoped>\n",
       "    .dataframe tbody tr th:only-of-type {\n",
       "        vertical-align: middle;\n",
       "    }\n",
       "\n",
       "    .dataframe tbody tr th {\n",
       "        vertical-align: top;\n",
       "    }\n",
       "\n",
       "    .dataframe thead th {\n",
       "        text-align: right;\n",
       "    }\n",
       "</style>\n",
       "<table border=\"1\" class=\"dataframe\">\n",
       "  <thead>\n",
       "    <tr style=\"text-align: right;\">\n",
       "      <th></th>\n",
       "      <th>Id</th>\n",
       "      <th>Store</th>\n",
       "      <th>DayOfWeek</th>\n",
       "      <th>Date</th>\n",
       "      <th>Open</th>\n",
       "      <th>Promo</th>\n",
       "      <th>StateHoliday</th>\n",
       "      <th>SchoolHoliday</th>\n",
       "    </tr>\n",
       "  </thead>\n",
       "  <tbody>\n",
       "    <tr>\n",
       "      <th>0</th>\n",
       "      <td>1</td>\n",
       "      <td>1</td>\n",
       "      <td>4</td>\n",
       "      <td>2015-09-17</td>\n",
       "      <td>1.0</td>\n",
       "      <td>1</td>\n",
       "      <td>0</td>\n",
       "      <td>0</td>\n",
       "    </tr>\n",
       "    <tr>\n",
       "      <th>1</th>\n",
       "      <td>2</td>\n",
       "      <td>3</td>\n",
       "      <td>4</td>\n",
       "      <td>2015-09-17</td>\n",
       "      <td>1.0</td>\n",
       "      <td>1</td>\n",
       "      <td>0</td>\n",
       "      <td>0</td>\n",
       "    </tr>\n",
       "  </tbody>\n",
       "</table>\n",
       "</div>"
      ],
      "text/plain": [
       "   Id  Store  DayOfWeek        Date  Open  Promo StateHoliday  SchoolHoliday\n",
       "0   1      1          4  2015-09-17   1.0      1            0              0\n",
       "1   2      3          4  2015-09-17   1.0      1            0              0"
      ]
     },
     "execution_count": 34,
     "metadata": {},
     "output_type": "execute_result"
    }
   ],
   "source": [
    "df_test.head(2)"
   ]
  },
  {
   "cell_type": "code",
   "execution_count": 35,
   "metadata": {},
   "outputs": [
    {
     "data": {
      "text/html": [
       "<div>\n",
       "<style scoped>\n",
       "    .dataframe tbody tr th:only-of-type {\n",
       "        vertical-align: middle;\n",
       "    }\n",
       "\n",
       "    .dataframe tbody tr th {\n",
       "        vertical-align: top;\n",
       "    }\n",
       "\n",
       "    .dataframe thead th {\n",
       "        text-align: right;\n",
       "    }\n",
       "</style>\n",
       "<table border=\"1\" class=\"dataframe\">\n",
       "  <thead>\n",
       "    <tr style=\"text-align: right;\">\n",
       "      <th></th>\n",
       "      <th>Store</th>\n",
       "      <th>DayOfWeek</th>\n",
       "      <th>Date</th>\n",
       "      <th>Sales</th>\n",
       "      <th>Customers</th>\n",
       "      <th>Open</th>\n",
       "      <th>Promo</th>\n",
       "      <th>StateHoliday</th>\n",
       "      <th>SchoolHoliday</th>\n",
       "    </tr>\n",
       "  </thead>\n",
       "  <tbody>\n",
       "    <tr>\n",
       "      <th>0</th>\n",
       "      <td>1</td>\n",
       "      <td>5</td>\n",
       "      <td>2015-07-31</td>\n",
       "      <td>5263</td>\n",
       "      <td>555</td>\n",
       "      <td>1</td>\n",
       "      <td>1</td>\n",
       "      <td>0</td>\n",
       "      <td>1</td>\n",
       "    </tr>\n",
       "    <tr>\n",
       "      <th>1</th>\n",
       "      <td>2</td>\n",
       "      <td>5</td>\n",
       "      <td>2015-07-31</td>\n",
       "      <td>6064</td>\n",
       "      <td>625</td>\n",
       "      <td>1</td>\n",
       "      <td>1</td>\n",
       "      <td>0</td>\n",
       "      <td>1</td>\n",
       "    </tr>\n",
       "  </tbody>\n",
       "</table>\n",
       "</div>"
      ],
      "text/plain": [
       "   Store  DayOfWeek        Date  Sales  Customers  Open  Promo StateHoliday  \\\n",
       "0      1          5  2015-07-31   5263        555     1      1            0   \n",
       "1      2          5  2015-07-31   6064        625     1      1            0   \n",
       "\n",
       "   SchoolHoliday  \n",
       "0              1  \n",
       "1              1  "
      ]
     },
     "execution_count": 35,
     "metadata": {},
     "output_type": "execute_result"
    }
   ],
   "source": [
    "df_train.head(2)"
   ]
  },
  {
   "cell_type": "code",
   "execution_count": 55,
   "metadata": {},
   "outputs": [
    {
     "data": {
      "text/plain": [
       "array(['2015-07-31', '2015-07-30', '2015-07-29', '2015-07-28',\n",
       "       '2015-07-27', '2015-07-26', '2015-07-25', '2015-07-24',\n",
       "       '2015-07-23', '2015-07-22', '2015-07-21', '2015-07-20',\n",
       "       '2015-07-19', '2015-07-18', '2015-07-17', '2015-07-16',\n",
       "       '2015-07-15', '2015-07-14', '2015-07-13', '2015-07-12',\n",
       "       '2015-07-11', '2015-07-10', '2015-07-09', '2015-07-08',\n",
       "       '2015-07-07', '2015-07-06', '2015-07-05', '2015-07-04',\n",
       "       '2015-07-03', '2015-07-02', '2015-07-01', '2015-06-30',\n",
       "       '2015-06-29', '2015-06-28', '2015-06-27', '2015-06-26',\n",
       "       '2015-06-25', '2015-06-24', '2015-06-23', '2015-06-22',\n",
       "       '2015-06-21', '2015-06-20', '2015-06-19', '2015-06-18',\n",
       "       '2015-06-17', '2015-06-16', '2015-06-15', '2015-06-14',\n",
       "       '2015-06-13', '2015-06-12', '2015-06-11', '2015-06-10',\n",
       "       '2015-06-09', '2015-06-08', '2015-06-07', '2015-06-06',\n",
       "       '2015-06-05', '2015-06-04', '2015-06-03', '2015-06-02',\n",
       "       '2015-06-01', '2015-05-31', '2015-05-30', '2015-05-29',\n",
       "       '2015-05-28', '2015-05-27', '2015-05-26', '2015-05-25',\n",
       "       '2015-05-24', '2015-05-23', '2015-05-22', '2015-05-21',\n",
       "       '2015-05-20', '2015-05-19', '2015-05-18', '2015-05-17',\n",
       "       '2015-05-16', '2015-05-15', '2015-05-14', '2015-05-13',\n",
       "       '2015-05-12', '2015-05-11', '2015-05-10', '2015-05-09',\n",
       "       '2015-05-08', '2015-05-07', '2015-05-06', '2015-05-05',\n",
       "       '2015-05-04', '2015-05-03', '2015-05-02', '2015-05-01',\n",
       "       '2015-04-30', '2015-04-29', '2015-04-28', '2015-04-27',\n",
       "       '2015-04-26', '2015-04-25', '2015-04-24', '2015-04-23',\n",
       "       '2015-04-22', '2015-04-21', '2015-04-20', '2015-04-19',\n",
       "       '2015-04-18', '2015-04-17', '2015-04-16', '2015-04-15',\n",
       "       '2015-04-14', '2015-04-13', '2015-04-12', '2015-04-11',\n",
       "       '2015-04-10', '2015-04-09', '2015-04-08', '2015-04-07',\n",
       "       '2015-04-06', '2015-04-05', '2015-04-04', '2015-04-03',\n",
       "       '2015-04-02', '2015-04-01', '2015-03-31', '2015-03-30',\n",
       "       '2015-03-29', '2015-03-28', '2015-03-27', '2015-03-26',\n",
       "       '2015-03-25', '2015-03-24', '2015-03-23', '2015-03-22',\n",
       "       '2015-03-21', '2015-03-20', '2015-03-19', '2015-03-18',\n",
       "       '2015-03-17', '2015-03-16', '2015-03-15', '2015-03-14',\n",
       "       '2015-03-13', '2015-03-12', '2015-03-11', '2015-03-10',\n",
       "       '2015-03-09', '2015-03-08', '2015-03-07', '2015-03-06',\n",
       "       '2015-03-05', '2015-03-04', '2015-03-03', '2015-03-02',\n",
       "       '2015-03-01', '2015-02-28', '2015-02-27', '2015-02-26',\n",
       "       '2015-02-25', '2015-02-24', '2015-02-23', '2015-02-22',\n",
       "       '2015-02-21', '2015-02-20', '2015-02-19', '2015-02-18',\n",
       "       '2015-02-17', '2015-02-16', '2015-02-15', '2015-02-14',\n",
       "       '2015-02-13', '2015-02-12', '2015-02-11', '2015-02-10',\n",
       "       '2015-02-09', '2015-02-08', '2015-02-07', '2015-02-06',\n",
       "       '2015-02-05', '2015-02-04', '2015-02-03', '2015-02-02',\n",
       "       '2015-02-01', '2015-01-31', '2015-01-30', '2015-01-29',\n",
       "       '2015-01-28', '2015-01-27', '2015-01-26', '2015-01-25',\n",
       "       '2015-01-24', '2015-01-23', '2015-01-22', '2015-01-21',\n",
       "       '2015-01-20', '2015-01-19', '2015-01-18', '2015-01-17',\n",
       "       '2015-01-16', '2015-01-15', '2015-01-14', '2015-01-13',\n",
       "       '2015-01-12', '2015-01-11', '2015-01-10', '2015-01-09',\n",
       "       '2015-01-08', '2015-01-07', '2015-01-06', '2015-01-05',\n",
       "       '2015-01-04', '2015-01-03', '2015-01-02', '2015-01-01',\n",
       "       '2014-12-31', '2014-12-30', '2014-12-29', '2014-12-28',\n",
       "       '2014-12-27', '2014-12-26', '2014-12-25', '2014-12-24',\n",
       "       '2014-12-23', '2014-12-22', '2014-12-21', '2014-12-20',\n",
       "       '2014-12-19', '2014-12-18', '2014-12-17', '2014-12-16',\n",
       "       '2014-12-15', '2014-12-14', '2014-12-13', '2014-12-12',\n",
       "       '2014-12-11', '2014-12-10', '2014-12-09', '2014-12-08',\n",
       "       '2014-12-07', '2014-12-06', '2014-12-05', '2014-12-04',\n",
       "       '2014-12-03', '2014-12-02', '2014-12-01', '2014-11-30',\n",
       "       '2014-11-29', '2014-11-28', '2014-11-27', '2014-11-26',\n",
       "       '2014-11-25', '2014-11-24', '2014-11-23', '2014-11-22',\n",
       "       '2014-11-21', '2014-11-20', '2014-11-19', '2014-11-18',\n",
       "       '2014-11-17', '2014-11-16', '2014-11-15', '2014-11-14',\n",
       "       '2014-11-13', '2014-11-12', '2014-11-11', '2014-11-10',\n",
       "       '2014-11-09', '2014-11-08', '2014-11-07', '2014-11-06',\n",
       "       '2014-11-05', '2014-11-04', '2014-11-03', '2014-11-02',\n",
       "       '2014-11-01', '2014-10-31', '2014-10-30', '2014-10-29',\n",
       "       '2014-10-28', '2014-10-27', '2014-10-26', '2014-10-25',\n",
       "       '2014-10-24', '2014-10-23', '2014-10-22', '2014-10-21',\n",
       "       '2014-10-20', '2014-10-19', '2014-10-18', '2014-10-17',\n",
       "       '2014-10-16', '2014-10-15', '2014-10-14', '2014-10-13',\n",
       "       '2014-10-12', '2014-10-11', '2014-10-10', '2014-10-09',\n",
       "       '2014-10-08', '2014-10-07', '2014-10-06', '2014-10-05',\n",
       "       '2014-10-04', '2014-10-03', '2014-10-02', '2014-10-01',\n",
       "       '2014-09-30', '2014-09-29', '2014-09-28', '2014-09-27',\n",
       "       '2014-09-26', '2014-09-25', '2014-09-24', '2014-09-23',\n",
       "       '2014-09-22', '2014-09-21', '2014-09-20', '2014-09-19',\n",
       "       '2014-09-18', '2014-09-17', '2014-09-16', '2014-09-15',\n",
       "       '2014-09-14', '2014-09-13', '2014-09-12', '2014-09-11',\n",
       "       '2014-09-10', '2014-09-09', '2014-09-08', '2014-09-07',\n",
       "       '2014-09-06', '2014-09-05', '2014-09-04', '2014-09-03',\n",
       "       '2014-09-02', '2014-09-01', '2014-08-31', '2014-08-30',\n",
       "       '2014-08-29', '2014-08-28', '2014-08-27', '2014-08-26',\n",
       "       '2014-08-25', '2014-08-24', '2014-08-23', '2014-08-22',\n",
       "       '2014-08-21', '2014-08-20', '2014-08-19', '2014-08-18',\n",
       "       '2014-08-17', '2014-08-16', '2014-08-15', '2014-08-14',\n",
       "       '2014-08-13', '2014-08-12', '2014-08-11', '2014-08-10',\n",
       "       '2014-08-09', '2014-08-08', '2014-08-07', '2014-08-06',\n",
       "       '2014-08-05', '2014-08-04', '2014-08-03', '2014-08-02',\n",
       "       '2014-08-01', '2014-07-31', '2014-07-30', '2014-07-29',\n",
       "       '2014-07-28', '2014-07-27', '2014-07-26', '2014-07-25',\n",
       "       '2014-07-24', '2014-07-23', '2014-07-22', '2014-07-21',\n",
       "       '2014-07-20', '2014-07-19', '2014-07-18', '2014-07-17',\n",
       "       '2014-07-16', '2014-07-15', '2014-07-14', '2014-07-13',\n",
       "       '2014-07-12', '2014-07-11', '2014-07-10', '2014-07-09',\n",
       "       '2014-07-08', '2014-07-07', '2014-07-06', '2014-07-05',\n",
       "       '2014-07-04', '2014-07-03', '2014-07-02', '2014-07-01',\n",
       "       '2014-06-30', '2014-06-29', '2014-06-28', '2014-06-27',\n",
       "       '2014-06-26', '2014-06-25', '2014-06-24', '2014-06-23',\n",
       "       '2014-06-22', '2014-06-21', '2014-06-20', '2014-06-19',\n",
       "       '2014-06-18', '2014-06-17', '2014-06-16', '2014-06-15',\n",
       "       '2014-06-14', '2014-06-13', '2014-06-12', '2014-06-11',\n",
       "       '2014-06-10', '2014-06-09', '2014-06-08', '2014-06-07',\n",
       "       '2014-06-06', '2014-06-05', '2014-06-04', '2014-06-03',\n",
       "       '2014-06-02', '2014-06-01', '2014-05-31', '2014-05-30',\n",
       "       '2014-05-29', '2014-05-28', '2014-05-27', '2014-05-26',\n",
       "       '2014-05-25', '2014-05-24', '2014-05-23', '2014-05-22',\n",
       "       '2014-05-21', '2014-05-20', '2014-05-19', '2014-05-18',\n",
       "       '2014-05-17', '2014-05-16', '2014-05-15', '2014-05-14',\n",
       "       '2014-05-13', '2014-05-12', '2014-05-11', '2014-05-10',\n",
       "       '2014-05-09', '2014-05-08', '2014-05-07', '2014-05-06',\n",
       "       '2014-05-05', '2014-05-04', '2014-05-03', '2014-05-02',\n",
       "       '2014-05-01', '2014-04-30', '2014-04-29', '2014-04-28',\n",
       "       '2014-04-27', '2014-04-26', '2014-04-25', '2014-04-24',\n",
       "       '2014-04-23', '2014-04-22', '2014-04-21', '2014-04-20',\n",
       "       '2014-04-19', '2014-04-18', '2014-04-17', '2014-04-16',\n",
       "       '2014-04-15', '2014-04-14', '2014-04-13', '2014-04-12',\n",
       "       '2014-04-11', '2014-04-10', '2014-04-09', '2014-04-08',\n",
       "       '2014-04-07', '2014-04-06', '2014-04-05', '2014-04-04',\n",
       "       '2014-04-03', '2014-04-02', '2014-04-01', '2014-03-31',\n",
       "       '2014-03-30', '2014-03-29', '2014-03-28', '2014-03-27',\n",
       "       '2014-03-26', '2014-03-25', '2014-03-24', '2014-03-23',\n",
       "       '2014-03-22', '2014-03-21', '2014-03-20', '2014-03-19',\n",
       "       '2014-03-18', '2014-03-17', '2014-03-16', '2014-03-15',\n",
       "       '2014-03-14', '2014-03-13', '2014-03-12', '2014-03-11',\n",
       "       '2014-03-10', '2014-03-09', '2014-03-08', '2014-03-07',\n",
       "       '2014-03-06', '2014-03-05', '2014-03-04', '2014-03-03',\n",
       "       '2014-03-02', '2014-03-01', '2014-02-28', '2014-02-27',\n",
       "       '2014-02-26', '2014-02-25', '2014-02-24', '2014-02-23',\n",
       "       '2014-02-22', '2014-02-21', '2014-02-20', '2014-02-19',\n",
       "       '2014-02-18', '2014-02-17', '2014-02-16', '2014-02-15',\n",
       "       '2014-02-14', '2014-02-13', '2014-02-12', '2014-02-11',\n",
       "       '2014-02-10', '2014-02-09', '2014-02-08', '2014-02-07',\n",
       "       '2014-02-06', '2014-02-05', '2014-02-04', '2014-02-03',\n",
       "       '2014-02-02', '2014-02-01', '2014-01-31', '2014-01-30',\n",
       "       '2014-01-29', '2014-01-28', '2014-01-27', '2014-01-26',\n",
       "       '2014-01-25', '2014-01-24', '2014-01-23', '2014-01-22',\n",
       "       '2014-01-21', '2014-01-20', '2014-01-19', '2014-01-18',\n",
       "       '2014-01-17', '2014-01-16', '2014-01-15', '2014-01-14',\n",
       "       '2014-01-13', '2014-01-12', '2014-01-11', '2014-01-10',\n",
       "       '2014-01-09', '2014-01-08', '2014-01-07', '2014-01-06',\n",
       "       '2014-01-05', '2014-01-04', '2014-01-03', '2014-01-02',\n",
       "       '2014-01-01', '2013-12-31', '2013-12-30', '2013-12-29',\n",
       "       '2013-12-28', '2013-12-27', '2013-12-26', '2013-12-25',\n",
       "       '2013-12-24', '2013-12-23', '2013-12-22', '2013-12-21',\n",
       "       '2013-12-20', '2013-12-19', '2013-12-18', '2013-12-17',\n",
       "       '2013-12-16', '2013-12-15', '2013-12-14', '2013-12-13',\n",
       "       '2013-12-12', '2013-12-11', '2013-12-10', '2013-12-09',\n",
       "       '2013-12-08', '2013-12-07', '2013-12-06', '2013-12-05',\n",
       "       '2013-12-04', '2013-12-03', '2013-12-02', '2013-12-01',\n",
       "       '2013-11-30', '2013-11-29', '2013-11-28', '2013-11-27',\n",
       "       '2013-11-26', '2013-11-25', '2013-11-24', '2013-11-23',\n",
       "       '2013-11-22', '2013-11-21', '2013-11-20', '2013-11-19',\n",
       "       '2013-11-18', '2013-11-17', '2013-11-16', '2013-11-15',\n",
       "       '2013-11-14', '2013-11-13', '2013-11-12', '2013-11-11',\n",
       "       '2013-11-10', '2013-11-09', '2013-11-08', '2013-11-07',\n",
       "       '2013-11-06', '2013-11-05', '2013-11-04', '2013-11-03',\n",
       "       '2013-11-02', '2013-11-01', '2013-10-31', '2013-10-30',\n",
       "       '2013-10-29', '2013-10-28', '2013-10-27', '2013-10-26',\n",
       "       '2013-10-25', '2013-10-24', '2013-10-23', '2013-10-22',\n",
       "       '2013-10-21', '2013-10-20', '2013-10-19', '2013-10-18',\n",
       "       '2013-10-17', '2013-10-16', '2013-10-15', '2013-10-14',\n",
       "       '2013-10-13', '2013-10-12', '2013-10-11', '2013-10-10',\n",
       "       '2013-10-09', '2013-10-08', '2013-10-07', '2013-10-06',\n",
       "       '2013-10-05', '2013-10-04', '2013-10-03', '2013-10-02',\n",
       "       '2013-10-01', '2013-09-30', '2013-09-29', '2013-09-28',\n",
       "       '2013-09-27', '2013-09-26', '2013-09-25', '2013-09-24',\n",
       "       '2013-09-23', '2013-09-22', '2013-09-21', '2013-09-20',\n",
       "       '2013-09-19', '2013-09-18', '2013-09-17', '2013-09-16',\n",
       "       '2013-09-15', '2013-09-14', '2013-09-13', '2013-09-12',\n",
       "       '2013-09-11', '2013-09-10', '2013-09-09', '2013-09-08',\n",
       "       '2013-09-07', '2013-09-06', '2013-09-05', '2013-09-04',\n",
       "       '2013-09-03', '2013-09-02', '2013-09-01', '2013-08-31',\n",
       "       '2013-08-30', '2013-08-29', '2013-08-28', '2013-08-27',\n",
       "       '2013-08-26', '2013-08-25', '2013-08-24', '2013-08-23',\n",
       "       '2013-08-22', '2013-08-21', '2013-08-20', '2013-08-19',\n",
       "       '2013-08-18', '2013-08-17', '2013-08-16', '2013-08-15',\n",
       "       '2013-08-14', '2013-08-13', '2013-08-12', '2013-08-11',\n",
       "       '2013-08-10', '2013-08-09', '2013-08-08', '2013-08-07',\n",
       "       '2013-08-06', '2013-08-05', '2013-08-04', '2013-08-03',\n",
       "       '2013-08-02', '2013-08-01', '2013-07-31', '2013-07-30',\n",
       "       '2013-07-29', '2013-07-28', '2013-07-27', '2013-07-26',\n",
       "       '2013-07-25', '2013-07-24', '2013-07-23', '2013-07-22',\n",
       "       '2013-07-21', '2013-07-20', '2013-07-19', '2013-07-18',\n",
       "       '2013-07-17', '2013-07-16', '2013-07-15', '2013-07-14',\n",
       "       '2013-07-13', '2013-07-12', '2013-07-11', '2013-07-10',\n",
       "       '2013-07-09', '2013-07-08', '2013-07-07', '2013-07-06',\n",
       "       '2013-07-05', '2013-07-04', '2013-07-03', '2013-07-02',\n",
       "       '2013-07-01', '2013-06-30', '2013-06-29', '2013-06-28',\n",
       "       '2013-06-27', '2013-06-26', '2013-06-25', '2013-06-24',\n",
       "       '2013-06-23', '2013-06-22', '2013-06-21', '2013-06-20',\n",
       "       '2013-06-19', '2013-06-18', '2013-06-17', '2013-06-16',\n",
       "       '2013-06-15', '2013-06-14', '2013-06-13', '2013-06-12',\n",
       "       '2013-06-11', '2013-06-10', '2013-06-09', '2013-06-08',\n",
       "       '2013-06-07', '2013-06-06', '2013-06-05', '2013-06-04',\n",
       "       '2013-06-03', '2013-06-02', '2013-06-01', '2013-05-31',\n",
       "       '2013-05-30', '2013-05-29', '2013-05-28', '2013-05-27',\n",
       "       '2013-05-26', '2013-05-25', '2013-05-24', '2013-05-23',\n",
       "       '2013-05-22', '2013-05-21', '2013-05-20', '2013-05-19',\n",
       "       '2013-05-18', '2013-05-17', '2013-05-16', '2013-05-15',\n",
       "       '2013-05-14', '2013-05-13', '2013-05-12', '2013-05-11',\n",
       "       '2013-05-10', '2013-05-09', '2013-05-08', '2013-05-07',\n",
       "       '2013-05-06', '2013-05-05', '2013-05-04', '2013-05-03',\n",
       "       '2013-05-02', '2013-05-01', '2013-04-30', '2013-04-29',\n",
       "       '2013-04-28', '2013-04-27', '2013-04-26', '2013-04-25',\n",
       "       '2013-04-24', '2013-04-23', '2013-04-22', '2013-04-21',\n",
       "       '2013-04-20', '2013-04-19', '2013-04-18', '2013-04-17',\n",
       "       '2013-04-16', '2013-04-15', '2013-04-14', '2013-04-13',\n",
       "       '2013-04-12', '2013-04-11', '2013-04-10', '2013-04-09',\n",
       "       '2013-04-08', '2013-04-07', '2013-04-06', '2013-04-05',\n",
       "       '2013-04-04', '2013-04-03', '2013-04-02', '2013-04-01',\n",
       "       '2013-03-31', '2013-03-30', '2013-03-29', '2013-03-28',\n",
       "       '2013-03-27', '2013-03-26', '2013-03-25', '2013-03-24',\n",
       "       '2013-03-23', '2013-03-22', '2013-03-21', '2013-03-20',\n",
       "       '2013-03-19', '2013-03-18', '2013-03-17', '2013-03-16',\n",
       "       '2013-03-15', '2013-03-14', '2013-03-13', '2013-03-12',\n",
       "       '2013-03-11', '2013-03-10', '2013-03-09', '2013-03-08',\n",
       "       '2013-03-07', '2013-03-06', '2013-03-05', '2013-03-04',\n",
       "       '2013-03-03', '2013-03-02', '2013-03-01', '2013-02-28',\n",
       "       '2013-02-27', '2013-02-26', '2013-02-25', '2013-02-24',\n",
       "       '2013-02-23', '2013-02-22', '2013-02-21', '2013-02-20',\n",
       "       '2013-02-19', '2013-02-18', '2013-02-17', '2013-02-16',\n",
       "       '2013-02-15', '2013-02-14', '2013-02-13', '2013-02-12',\n",
       "       '2013-02-11', '2013-02-10', '2013-02-09', '2013-02-08',\n",
       "       '2013-02-07', '2013-02-06', '2013-02-05', '2013-02-04',\n",
       "       '2013-02-03', '2013-02-02', '2013-02-01', '2013-01-31',\n",
       "       '2013-01-30', '2013-01-29', '2013-01-28', '2013-01-27',\n",
       "       '2013-01-26', '2013-01-25', '2013-01-24', '2013-01-23',\n",
       "       '2013-01-22', '2013-01-21', '2013-01-20', '2013-01-19',\n",
       "       '2013-01-18', '2013-01-17', '2013-01-16', '2013-01-15',\n",
       "       '2013-01-14', '2013-01-13', '2013-01-12', '2013-01-11',\n",
       "       '2013-01-10', '2013-01-09', '2013-01-08', '2013-01-07',\n",
       "       '2013-01-06', '2013-01-05', '2013-01-04', '2013-01-03',\n",
       "       '2013-01-02', '2013-01-01'], dtype=object)"
      ]
     },
     "execution_count": 55,
     "metadata": {},
     "output_type": "execute_result"
    }
   ],
   "source": [
    "df_train['Date'].unique()"
   ]
  },
  {
   "cell_type": "code",
   "execution_count": 39,
   "metadata": {},
   "outputs": [
    {
     "name": "stdout",
     "output_type": "stream",
     "text": [
      "<class 'pandas.core.frame.DataFrame'>\n",
      "RangeIndex: 1017209 entries, 0 to 1017208\n",
      "Data columns (total 9 columns):\n",
      " #   Column         Non-Null Count    Dtype \n",
      "---  ------         --------------    ----- \n",
      " 0   Store          1017209 non-null  int64 \n",
      " 1   DayOfWeek      1017209 non-null  int64 \n",
      " 2   Date           1017209 non-null  object\n",
      " 3   Sales          1017209 non-null  int64 \n",
      " 4   Customers      1017209 non-null  int64 \n",
      " 5   Open           1017209 non-null  int64 \n",
      " 6   Promo          1017209 non-null  int64 \n",
      " 7   StateHoliday   1017209 non-null  object\n",
      " 8   SchoolHoliday  1017209 non-null  int64 \n",
      "dtypes: int64(7), object(2)\n",
      "memory usage: 62.1+ MB\n",
      "(1017209, 9)\n",
      "<class 'pandas.core.frame.DataFrame'>\n",
      "RangeIndex: 41088 entries, 0 to 41087\n",
      "Data columns (total 8 columns):\n",
      " #   Column         Non-Null Count  Dtype  \n",
      "---  ------         --------------  -----  \n",
      " 0   Id             41088 non-null  int64  \n",
      " 1   Store          41088 non-null  int64  \n",
      " 2   DayOfWeek      41088 non-null  int64  \n",
      " 3   Date           41088 non-null  object \n",
      " 4   Open           41077 non-null  float64\n",
      " 5   Promo          41088 non-null  int64  \n",
      " 6   StateHoliday   41088 non-null  object \n",
      " 7   SchoolHoliday  41088 non-null  int64  \n",
      "dtypes: float64(1), int64(5), object(2)\n",
      "memory usage: 2.2+ MB\n",
      "(41088, 8)\n",
      "<class 'pandas.core.frame.DataFrame'>\n",
      "RangeIndex: 1115 entries, 0 to 1114\n",
      "Data columns (total 10 columns):\n",
      " #   Column                     Non-Null Count  Dtype  \n",
      "---  ------                     --------------  -----  \n",
      " 0   Store                      1115 non-null   int64  \n",
      " 1   StoreType                  1115 non-null   object \n",
      " 2   Assortment                 1115 non-null   object \n",
      " 3   CompetitionDistance        1112 non-null   float64\n",
      " 4   CompetitionOpenSinceMonth  761 non-null    float64\n",
      " 5   CompetitionOpenSinceYear   761 non-null    float64\n",
      " 6   Promo2                     1115 non-null   int64  \n",
      " 7   Promo2SinceWeek            571 non-null    float64\n",
      " 8   Promo2SinceYear            571 non-null    float64\n",
      " 9   PromoInterval              571 non-null    object \n",
      "dtypes: float64(5), int64(2), object(3)\n",
      "memory usage: 74.1+ KB\n",
      "(1115, 10)\n"
     ]
    }
   ],
   "source": [
    "dflist=[df_train,df_test,df_store]\n",
    "for df in dflist:\n",
    "    df.info()\n",
    "    print(df.shape)"
   ]
  },
  {
   "cell_type": "code",
   "execution_count": 43,
   "metadata": {},
   "outputs": [],
   "source": [
    "# % of values missing in each column \n",
    "values_list = list() \n",
    "cols_list = list() \n",
    "for col in df.columns: \n",
    "    pct_missing = np.mean(df[col].isnull())*100 \n",
    "    cols_list.append(col) \n",
    "    values_list.append(pct_missing) \n",
    "    pct_missing_df = pd.DataFrame() \n",
    "    pct_missing_df['col'] = cols_list \n",
    "    pct_missing_df['pct_missing'] = values_list"
   ]
  },
  {
   "cell_type": "code",
   "execution_count": 44,
   "metadata": {},
   "outputs": [
    {
     "data": {
      "image/png": "[encoded data removed]",
      "text/plain": [
       "<Figure size 864x576 with 1 Axes>"
      ]
     },
     "metadata": {
      "needs_background": "light"
     },
     "output_type": "display_data"
    }
   ],
   "source": [
    "from matplotlib import pyplot as plt\n",
    "pct_missing_df.loc[pct_missing_df.pct_missing > 0].plot(kind='bar', figsize=(12,8))\n",
    "plt.show()"
   ]
  },
  {
   "cell_type": "code",
   "execution_count": 40,
   "metadata": {},
   "outputs": [
    {
     "name": "stdout",
     "output_type": "stream",
     "text": [
      "0\n",
      "11\n",
      "2343\n"
     ]
    }
   ],
   "source": [
    "for i, dfr in enumerate(dflist):\n",
    "    print(dflist[i].isnull().sum().sum())\n",
    "\n"
   ]
  },
  {
   "cell_type": "code",
   "execution_count": 45,
   "metadata": {},
   "outputs": [],
   "source": [
    "df_store.dropna(inplace=True)"
   ]
  },
  {
   "cell_type": "code",
   "execution_count": 66,
   "metadata": {},
   "outputs": [
    {
     "data": {
      "text/html": [
       "<div>\n",
       "<style scoped>\n",
       "    .dataframe tbody tr th:only-of-type {\n",
       "        vertical-align: middle;\n",
       "    }\n",
       "\n",
       "    .dataframe tbody tr th {\n",
       "        vertical-align: top;\n",
       "    }\n",
       "\n",
       "    .dataframe thead th {\n",
       "        text-align: right;\n",
       "    }\n",
       "</style>\n",
       "<table border=\"1\" class=\"dataframe\">\n",
       "  <thead>\n",
       "    <tr style=\"text-align: right;\">\n",
       "      <th></th>\n",
       "      <th>Store</th>\n",
       "      <th>StoreType</th>\n",
       "      <th>Assortment</th>\n",
       "      <th>CompetitionDistance</th>\n",
       "      <th>CompetitionOpenSinceMonth</th>\n",
       "      <th>CompetitionOpenSinceYear</th>\n",
       "      <th>Promo2</th>\n",
       "      <th>Promo2SinceWeek</th>\n",
       "      <th>Promo2SinceYear</th>\n",
       "      <th>PromoInterval</th>\n",
       "    </tr>\n",
       "  </thead>\n",
       "  <tbody>\n",
       "    <tr>\n",
       "      <th>1</th>\n",
       "      <td>2</td>\n",
       "      <td>a</td>\n",
       "      <td>a</td>\n",
       "      <td>570.0</td>\n",
       "      <td>11</td>\n",
       "      <td>2007</td>\n",
       "      <td>1</td>\n",
       "      <td>13</td>\n",
       "      <td>2010</td>\n",
       "      <td>Jan,Apr,Jul,Oct</td>\n",
       "    </tr>\n",
       "    <tr>\n",
       "      <th>2</th>\n",
       "      <td>3</td>\n",
       "      <td>a</td>\n",
       "      <td>a</td>\n",
       "      <td>14130.0</td>\n",
       "      <td>12</td>\n",
       "      <td>2006</td>\n",
       "      <td>1</td>\n",
       "      <td>14</td>\n",
       "      <td>2011</td>\n",
       "      <td>Jan,Apr,Jul,Oct</td>\n",
       "    </tr>\n",
       "    <tr>\n",
       "      <th>10</th>\n",
       "      <td>11</td>\n",
       "      <td>a</td>\n",
       "      <td>c</td>\n",
       "      <td>960.0</td>\n",
       "      <td>11</td>\n",
       "      <td>2011</td>\n",
       "      <td>1</td>\n",
       "      <td>1</td>\n",
       "      <td>2012</td>\n",
       "      <td>Jan,Apr,Jul,Oct</td>\n",
       "    </tr>\n",
       "    <tr>\n",
       "      <th>13</th>\n",
       "      <td>14</td>\n",
       "      <td>a</td>\n",
       "      <td>a</td>\n",
       "      <td>1300.0</td>\n",
       "      <td>3</td>\n",
       "      <td>2014</td>\n",
       "      <td>1</td>\n",
       "      <td>40</td>\n",
       "      <td>2011</td>\n",
       "      <td>Jan,Apr,Jul,Oct</td>\n",
       "    </tr>\n",
       "    <tr>\n",
       "      <th>14</th>\n",
       "      <td>15</td>\n",
       "      <td>d</td>\n",
       "      <td>c</td>\n",
       "      <td>4110.0</td>\n",
       "      <td>3</td>\n",
       "      <td>2010</td>\n",
       "      <td>1</td>\n",
       "      <td>14</td>\n",
       "      <td>2011</td>\n",
       "      <td>Jan,Apr,Jul,Oct</td>\n",
       "    </tr>\n",
       "  </tbody>\n",
       "</table>\n",
       "</div>"
      ],
      "text/plain": [
       "    Store StoreType Assortment  CompetitionDistance  \\\n",
       "1       2         a          a                570.0   \n",
       "2       3         a          a              14130.0   \n",
       "10     11         a          c                960.0   \n",
       "13     14         a          a               1300.0   \n",
       "14     15         d          c               4110.0   \n",
       "\n",
       "    CompetitionOpenSinceMonth  CompetitionOpenSinceYear  Promo2  \\\n",
       "1                          11                      2007       1   \n",
       "2                          12                      2006       1   \n",
       "10                         11                      2011       1   \n",
       "13                          3                      2014       1   \n",
       "14                          3                      2010       1   \n",
       "\n",
       "    Promo2SinceWeek  Promo2SinceYear    PromoInterval  \n",
       "1                13             2010  Jan,Apr,Jul,Oct  \n",
       "2                14             2011  Jan,Apr,Jul,Oct  \n",
       "10                1             2012  Jan,Apr,Jul,Oct  \n",
       "13               40             2011  Jan,Apr,Jul,Oct  \n",
       "14               14             2011  Jan,Apr,Jul,Oct  "
      ]
     },
     "execution_count": 66,
     "metadata": {},
     "output_type": "execute_result"
    }
   ],
   "source": [
    "def to_int(x):\n",
    "    return int(x)\n",
    "# use function to convert floats to int\n",
    "\n",
    "#df_store['CompetitionOpenSinceYear'] = df_store['CompetitionOpenSinceYear'].apply(to_int)\n",
    "#df_store['CompetitionOpenSinceMonth'] = df_store['CompetitionOpenSinceMonth'].apply(to_int)\n",
    "df_store['Promo2SinceWeek'] = df_store['Promo2SinceWeek'].apply(to_int)\n",
    "df_store['Promo2SinceYear'] = df_store['Promo2SinceYear'].apply(to_int)\n",
    "\n",
    "df_store.head()"
   ]
  },
  {
   "cell_type": "code",
   "execution_count": 64,
   "metadata": {},
   "outputs": [
    {
     "name": "stdout",
     "output_type": "stream",
     "text": [
      "2010-03-29 00:00:00\n"
     ]
    }
   ],
   "source": [
    "import datetime\n",
    "\n",
    "d = \"2010-W13\"\n",
    "r = datetime.datetime.strptime(d + '-1', \"%Y-W%W-%w\")\n",
    "print(r)"
   ]
  },
  {
   "cell_type": "code",
   "execution_count": 65,
   "metadata": {},
   "outputs": [
    {
     "data": {
      "text/plain": [
       "['17.09.2021', '16.09.2021', '15.09.2021', '14.09.2021', '13.09.2021']"
      ]
     },
     "execution_count": 65,
     "metadata": {},
     "output_type": "execute_result"
    }
   ],
   "source": [
    "import datetime\n",
    "\n",
    "def weeknum_to_dates(weeknum):\n",
    "    return [datetime.datetime.strptime(\"2021-W\"+ str(weeknum) + str(x), \"%Y-W%W-%w\").strftime('%d.%m.%Y') for x in range(-5,0)]\n",
    "\n",
    "weeknum_to_dates(37)"
   ]
  },
  {
   "cell_type": "code",
   "execution_count": 67,
   "metadata": {},
   "outputs": [
    {
     "ename": "SyntaxError",
     "evalue": "invalid syntax (3864594421.py, line 5)",
     "output_type": "error",
     "traceback": [
      "\u001b[1;36m  Input \u001b[1;32mIn [67]\u001b[1;36m\u001b[0m\n\u001b[1;33m    return [datetime.datetime.strptime((\"df_store[\"Promo2SinceYear\"]-W\")+ str(weeknum) + str(x), \"%Y-W%W-%w\").strftime('%d.%m.%Y') for x in range(-5,0)]\u001b[0m\n\u001b[1;37m                                                   ^\u001b[0m\n\u001b[1;31mSyntaxError\u001b[0m\u001b[1;31m:\u001b[0m invalid syntax\n"
     ]
    }
   ],
   "source": [
    "import datetime\n",
    "for weeknum in df_store['Promo2SinceWeek']:\n",
    "\n",
    "    def weeknum_to_dates(weeknum):\n",
    "        return [datetime.datetime.strptime((\"df_store[\"Promo2SinceYear\"]-W\")+ str(weeknum) + str(x), \"%Y-W%W-%w\").strftime('%d.%m.%Y') for x in range(-5,0)]\n",
    "\n",
    "\n"
   ]
  },
  {
   "cell_type": "code",
   "execution_count": 48,
   "metadata": {},
   "outputs": [],
   "source": [
    "import datetime"
   ]
  },
  {
   "cell_type": "code",
   "execution_count": 56,
   "metadata": {},
   "outputs": [
    {
     "ename": "ValueError",
     "evalue": "to assemble mappings requires at least that [year, month, day] be specified: [day,month,year] is missing",
     "output_type": "error",
     "traceback": [
      "\u001b[1;31m---------------------------------------------------------------------------\u001b[0m",
      "\u001b[1;31mValueError\u001b[0m                                Traceback (most recent call last)",
      "\u001b[1;32mc:\\Users\\ende\\Desktop\\project\\notebooks\\new.ipynb Cell 15'\u001b[0m in \u001b[0;36m<cell line: 1>\u001b[1;34m()\u001b[0m\n\u001b[1;32m----> <a href='vscode-notebook-cell:/c%3A/Users/ende/Desktop/project/notebooks/new.ipynb#ch0000017?line=0'>1</a>\u001b[0m df_store[\u001b[39m'\u001b[39m\u001b[39mDATE\u001b[39m\u001b[39m'\u001b[39m] \u001b[39m=\u001b[39m pd\u001b[39m.\u001b[39;49mto_datetime(df_store[[\u001b[39m'\u001b[39;49m\u001b[39mCompetitionOpenSinceYear\u001b[39;49m\u001b[39m'\u001b[39;49m, \u001b[39m'\u001b[39;49m\u001b[39mCompetitionOpenSinceMonth\u001b[39;49m\u001b[39m'\u001b[39;49m]])\u001b[39m.\u001b[39mdt\u001b[39m.\u001b[39mto_period(\u001b[39m'\u001b[39m\u001b[39mY\u001b[39m\u001b[39m'\u001b[39m,\u001b[39m'\u001b[39m\u001b[39mM\u001b[39m\u001b[39m'\u001b[39m)\n",
      "File \u001b[1;32mc:\\Users\\ende\\AppData\\Local\\Programs\\Python\\Python38-32\\lib\\site-packages\\pandas\\core\\tools\\datetimes.py:1054\u001b[0m, in \u001b[0;36mto_datetime\u001b[1;34m(arg, errors, dayfirst, yearfirst, utc, format, exact, unit, infer_datetime_format, origin, cache)\u001b[0m\n\u001b[0;32m   <a href='file:///c%3A/Users/ende/AppData/Local/Programs/Python/Python38-32/lib/site-packages/pandas/core/tools/datetimes.py?line=1051'>1052</a>\u001b[0m         result \u001b[39m=\u001b[39m arg\u001b[39m.\u001b[39m_constructor(values, index\u001b[39m=\u001b[39marg\u001b[39m.\u001b[39mindex, name\u001b[39m=\u001b[39marg\u001b[39m.\u001b[39mname)\n\u001b[0;32m   <a href='file:///c%3A/Users/ende/AppData/Local/Programs/Python/Python38-32/lib/site-packages/pandas/core/tools/datetimes.py?line=1052'>1053</a>\u001b[0m \u001b[39melif\u001b[39;00m \u001b[39misinstance\u001b[39m(arg, (ABCDataFrame, abc\u001b[39m.\u001b[39mMutableMapping)):\n\u001b[1;32m-> <a href='file:///c%3A/Users/ende/AppData/Local/Programs/Python/Python38-32/lib/site-packages/pandas/core/tools/datetimes.py?line=1053'>1054</a>\u001b[0m     result \u001b[39m=\u001b[39m _assemble_from_unit_mappings(arg, errors, tz)\n\u001b[0;32m   <a href='file:///c%3A/Users/ende/AppData/Local/Programs/Python/Python38-32/lib/site-packages/pandas/core/tools/datetimes.py?line=1054'>1055</a>\u001b[0m \u001b[39melif\u001b[39;00m \u001b[39misinstance\u001b[39m(arg, Index):\n\u001b[0;32m   <a href='file:///c%3A/Users/ende/AppData/Local/Programs/Python/Python38-32/lib/site-packages/pandas/core/tools/datetimes.py?line=1055'>1056</a>\u001b[0m     cache_array \u001b[39m=\u001b[39m _maybe_cache(arg, \u001b[39mformat\u001b[39m, cache, convert_listlike)\n",
      "File \u001b[1;32mc:\\Users\\ende\\AppData\\Local\\Programs\\Python\\Python38-32\\lib\\site-packages\\pandas\\core\\tools\\datetimes.py:1160\u001b[0m, in \u001b[0;36m_assemble_from_unit_mappings\u001b[1;34m(arg, errors, tz)\u001b[0m\n\u001b[0;32m   <a href='file:///c%3A/Users/ende/AppData/Local/Programs/Python/Python38-32/lib/site-packages/pandas/core/tools/datetimes.py?line=1157'>1158</a>\u001b[0m \u001b[39mif\u001b[39;00m \u001b[39mlen\u001b[39m(req):\n\u001b[0;32m   <a href='file:///c%3A/Users/ende/AppData/Local/Programs/Python/Python38-32/lib/site-packages/pandas/core/tools/datetimes.py?line=1158'>1159</a>\u001b[0m     _required \u001b[39m=\u001b[39m \u001b[39m\"\u001b[39m\u001b[39m,\u001b[39m\u001b[39m\"\u001b[39m\u001b[39m.\u001b[39mjoin(req)\n\u001b[1;32m-> <a href='file:///c%3A/Users/ende/AppData/Local/Programs/Python/Python38-32/lib/site-packages/pandas/core/tools/datetimes.py?line=1159'>1160</a>\u001b[0m     \u001b[39mraise\u001b[39;00m \u001b[39mValueError\u001b[39;00m(\n\u001b[0;32m   <a href='file:///c%3A/Users/ende/AppData/Local/Programs/Python/Python38-32/lib/site-packages/pandas/core/tools/datetimes.py?line=1160'>1161</a>\u001b[0m         \u001b[39m\"\u001b[39m\u001b[39mto assemble mappings requires at least that \u001b[39m\u001b[39m\"\u001b[39m\n\u001b[0;32m   <a href='file:///c%3A/Users/ende/AppData/Local/Programs/Python/Python38-32/lib/site-packages/pandas/core/tools/datetimes.py?line=1161'>1162</a>\u001b[0m         \u001b[39mf\u001b[39m\u001b[39m\"\u001b[39m\u001b[39m[year, month, day] be specified: [\u001b[39m\u001b[39m{\u001b[39;00m_required\u001b[39m}\u001b[39;00m\u001b[39m] is missing\u001b[39m\u001b[39m\"\u001b[39m\n\u001b[0;32m   <a href='file:///c%3A/Users/ende/AppData/Local/Programs/Python/Python38-32/lib/site-packages/pandas/core/tools/datetimes.py?line=1162'>1163</a>\u001b[0m     )\n\u001b[0;32m   <a href='file:///c%3A/Users/ende/AppData/Local/Programs/Python/Python38-32/lib/site-packages/pandas/core/tools/datetimes.py?line=1164'>1165</a>\u001b[0m \u001b[39m# keys we don't recognize\u001b[39;00m\n\u001b[0;32m   <a href='file:///c%3A/Users/ende/AppData/Local/Programs/Python/Python38-32/lib/site-packages/pandas/core/tools/datetimes.py?line=1165'>1166</a>\u001b[0m excess \u001b[39m=\u001b[39m \u001b[39msorted\u001b[39m(\u001b[39mset\u001b[39m(unit_rev\u001b[39m.\u001b[39mkeys()) \u001b[39m-\u001b[39m \u001b[39mset\u001b[39m(_unit_map\u001b[39m.\u001b[39mvalues()))\n",
      "\u001b[1;31mValueError\u001b[0m: to assemble mappings requires at least that [year, month, day] be specified: [day,month,year] is missing"
     ]
    }
   ],
   "source": [
    "df_store['DATE'] = pd.to_datetime(df_store[['CompetitionOpenSinceYear', 'CompetitionOpenSinceMonth']]).dt.to_period('Y','M')"
   ]
  },
  {
   "cell_type": "code",
   "execution_count": 58,
   "metadata": {},
   "outputs": [
    {
     "ename": "ValueError",
     "evalue": "to assemble mappings requires at least that [year, month, day] be specified: [day,month,year] is missing",
     "output_type": "error",
     "traceback": [
      "\u001b[1;31m---------------------------------------------------------------------------\u001b[0m",
      "\u001b[1;31mValueError\u001b[0m                                Traceback (most recent call last)",
      "\u001b[1;32mc:\\Users\\ende\\Desktop\\project\\notebooks\\new.ipynb Cell 16'\u001b[0m in \u001b[0;36m<cell line: 1>\u001b[1;34m()\u001b[0m\n\u001b[1;32m----> <a href='vscode-notebook-cell:/c%3A/Users/ende/Desktop/project/notebooks/new.ipynb#ch0000019?line=0'>1</a>\u001b[0m df_store[\u001b[39m'\u001b[39m\u001b[39mDATE\u001b[39m\u001b[39m'\u001b[39m] \u001b[39m=\u001b[39m  pd\u001b[39m.\u001b[39;49mto_datetime(df_store[[\u001b[39m'\u001b[39;49m\u001b[39mCompetitionOpenSinceYear\u001b[39;49m\u001b[39m'\u001b[39;49m,\u001b[39m'\u001b[39;49m\u001b[39mCompetitionOpenSinceMonth\u001b[39;49m\u001b[39m'\u001b[39;49m]],\u001b[39mformat\u001b[39;49m\u001b[39m=\u001b[39;49m\u001b[39m'\u001b[39;49m\u001b[39m%\u001b[39;49m\u001b[39mY\u001b[39;49m\u001b[39m%\u001b[39;49m\u001b[39mm\u001b[39;49m\u001b[39m%\u001b[39;49m\u001b[39m'\u001b[39;49m)\n",
      "File \u001b[1;32mc:\\Users\\ende\\AppData\\Local\\Programs\\Python\\Python38-32\\lib\\site-packages\\pandas\\core\\tools\\datetimes.py:1054\u001b[0m, in \u001b[0;36mto_datetime\u001b[1;34m(arg, errors, dayfirst, yearfirst, utc, format, exact, unit, infer_datetime_format, origin, cache)\u001b[0m\n\u001b[0;32m   <a href='file:///c%3A/Users/ende/AppData/Local/Programs/Python/Python38-32/lib/site-packages/pandas/core/tools/datetimes.py?line=1051'>1052</a>\u001b[0m         result \u001b[39m=\u001b[39m arg\u001b[39m.\u001b[39m_constructor(values, index\u001b[39m=\u001b[39marg\u001b[39m.\u001b[39mindex, name\u001b[39m=\u001b[39marg\u001b[39m.\u001b[39mname)\n\u001b[0;32m   <a href='file:///c%3A/Users/ende/AppData/Local/Programs/Python/Python38-32/lib/site-packages/pandas/core/tools/datetimes.py?line=1052'>1053</a>\u001b[0m \u001b[39melif\u001b[39;00m \u001b[39misinstance\u001b[39m(arg, (ABCDataFrame, abc\u001b[39m.\u001b[39mMutableMapping)):\n\u001b[1;32m-> <a href='file:///c%3A/Users/ende/AppData/Local/Programs/Python/Python38-32/lib/site-packages/pandas/core/tools/datetimes.py?line=1053'>1054</a>\u001b[0m     result \u001b[39m=\u001b[39m _assemble_from_unit_mappings(arg, errors, tz)\n\u001b[0;32m   <a href='file:///c%3A/Users/ende/AppData/Local/Programs/Python/Python38-32/lib/site-packages/pandas/core/tools/datetimes.py?line=1054'>1055</a>\u001b[0m \u001b[39melif\u001b[39;00m \u001b[39misinstance\u001b[39m(arg, Index):\n\u001b[0;32m   <a href='file:///c%3A/Users/ende/AppData/Local/Programs/Python/Python38-32/lib/site-packages/pandas/core/tools/datetimes.py?line=1055'>1056</a>\u001b[0m     cache_array \u001b[39m=\u001b[39m _maybe_cache(arg, \u001b[39mformat\u001b[39m, cache, convert_listlike)\n",
      "File \u001b[1;32mc:\\Users\\ende\\AppData\\Local\\Programs\\Python\\Python38-32\\lib\\site-packages\\pandas\\core\\tools\\datetimes.py:1160\u001b[0m, in \u001b[0;36m_assemble_from_unit_mappings\u001b[1;34m(arg, errors, tz)\u001b[0m\n\u001b[0;32m   <a href='file:///c%3A/Users/ende/AppData/Local/Programs/Python/Python38-32/lib/site-packages/pandas/core/tools/datetimes.py?line=1157'>1158</a>\u001b[0m \u001b[39mif\u001b[39;00m \u001b[39mlen\u001b[39m(req):\n\u001b[0;32m   <a href='file:///c%3A/Users/ende/AppData/Local/Programs/Python/Python38-32/lib/site-packages/pandas/core/tools/datetimes.py?line=1158'>1159</a>\u001b[0m     _required \u001b[39m=\u001b[39m \u001b[39m\"\u001b[39m\u001b[39m,\u001b[39m\u001b[39m\"\u001b[39m\u001b[39m.\u001b[39mjoin(req)\n\u001b[1;32m-> <a href='file:///c%3A/Users/ende/AppData/Local/Programs/Python/Python38-32/lib/site-packages/pandas/core/tools/datetimes.py?line=1159'>1160</a>\u001b[0m     \u001b[39mraise\u001b[39;00m \u001b[39mValueError\u001b[39;00m(\n\u001b[0;32m   <a href='file:///c%3A/Users/ende/AppData/Local/Programs/Python/Python38-32/lib/site-packages/pandas/core/tools/datetimes.py?line=1160'>1161</a>\u001b[0m         \u001b[39m\"\u001b[39m\u001b[39mto assemble mappings requires at least that \u001b[39m\u001b[39m\"\u001b[39m\n\u001b[0;32m   <a href='file:///c%3A/Users/ende/AppData/Local/Programs/Python/Python38-32/lib/site-packages/pandas/core/tools/datetimes.py?line=1161'>1162</a>\u001b[0m         \u001b[39mf\u001b[39m\u001b[39m\"\u001b[39m\u001b[39m[year, month, day] be specified: [\u001b[39m\u001b[39m{\u001b[39;00m_required\u001b[39m}\u001b[39;00m\u001b[39m] is missing\u001b[39m\u001b[39m\"\u001b[39m\n\u001b[0;32m   <a href='file:///c%3A/Users/ende/AppData/Local/Programs/Python/Python38-32/lib/site-packages/pandas/core/tools/datetimes.py?line=1162'>1163</a>\u001b[0m     )\n\u001b[0;32m   <a href='file:///c%3A/Users/ende/AppData/Local/Programs/Python/Python38-32/lib/site-packages/pandas/core/tools/datetimes.py?line=1164'>1165</a>\u001b[0m \u001b[39m# keys we don't recognize\u001b[39;00m\n\u001b[0;32m   <a href='file:///c%3A/Users/ende/AppData/Local/Programs/Python/Python38-32/lib/site-packages/pandas/core/tools/datetimes.py?line=1165'>1166</a>\u001b[0m excess \u001b[39m=\u001b[39m \u001b[39msorted\u001b[39m(\u001b[39mset\u001b[39m(unit_rev\u001b[39m.\u001b[39mkeys()) \u001b[39m-\u001b[39m \u001b[39mset\u001b[39m(_unit_map\u001b[39m.\u001b[39mvalues()))\n",
      "\u001b[1;31mValueError\u001b[0m: to assemble mappings requires at least that [year, month, day] be specified: [day,month,year] is missing"
     ]
    }
   ],
   "source": [
    "df_store['DATE'] =  pd.to_datetime(df_store[['CompetitionOpenSinceYear','CompetitionOpenSinceMonth']],format='%Y%m%')\n",
    "#df['date'] = pd.to_datetime(df['date'],format='%Y%m%d')"
   ]
  },
  {
   "cell_type": "code",
   "execution_count": 51,
   "metadata": {},
   "outputs": [
    {
     "ename": "ValueError",
     "evalue": "time data '\\u200b2007 11\\u200b' does not match format '%Y %M'",
     "output_type": "error",
     "traceback": [
      "\u001b[1;31m---------------------------------------------------------------------------\u001b[0m",
      "\u001b[1;31mValueError\u001b[0m                                Traceback (most recent call last)",
      "\u001b[1;32mc:\\Users\\ende\\Desktop\\project\\notebooks\\new.ipynb Cell 14'\u001b[0m in \u001b[0;36m<cell line: 1>\u001b[1;34m()\u001b[0m\n\u001b[1;32m----> <a href='vscode-notebook-cell:/c%3A/Users/ende/Desktop/project/notebooks/new.ipynb#ch0000015?line=0'>1</a>\u001b[0m df_store[\u001b[39m'\u001b[39m\u001b[39mDate_comptition\u001b[39m\u001b[39m'\u001b[39m] \u001b[39m=\u001b[39m df_store\u001b[39m.\u001b[39;49mapply(\u001b[39mlambda\u001b[39;49;00m x: datetime\u001b[39m.\u001b[39;49mdatetime\u001b[39m.\u001b[39;49mstrptime(\u001b[39m\"\u001b[39;49m\u001b[39m​\u001b[39;49m\u001b[39m{0}\u001b[39;49;00m\u001b[39m \u001b[39;49m\u001b[39m{1}\u001b[39;49;00m\u001b[39m​\u001b[39;49m\u001b[39m\"\u001b[39;49m\u001b[39m.\u001b[39;49mformat(x[\u001b[39m'\u001b[39;49m\u001b[39mCompetitionOpenSinceYear\u001b[39;49m\u001b[39m'\u001b[39;49m],x[\u001b[39m'\u001b[39;49m\u001b[39mCompetitionOpenSinceMonth\u001b[39;49m\u001b[39m'\u001b[39;49m]), \u001b[39m\"\u001b[39;49m\u001b[39m%\u001b[39;49m\u001b[39mY \u001b[39;49m\u001b[39m%\u001b[39;49m\u001b[39mM\u001b[39;49m\u001b[39m\"\u001b[39;49m),axis\u001b[39m=\u001b[39;49m\u001b[39m1\u001b[39;49m)\n",
      "File \u001b[1;32mc:\\Users\\ende\\AppData\\Local\\Programs\\Python\\Python38-32\\lib\\site-packages\\pandas\\core\\frame.py:8833\u001b[0m, in \u001b[0;36mDataFrame.apply\u001b[1;34m(self, func, axis, raw, result_type, args, **kwargs)\u001b[0m\n\u001b[0;32m   <a href='file:///c%3A/Users/ende/AppData/Local/Programs/Python/Python38-32/lib/site-packages/pandas/core/frame.py?line=8821'>8822</a>\u001b[0m \u001b[39mfrom\u001b[39;00m \u001b[39mpandas\u001b[39;00m\u001b[39m.\u001b[39;00m\u001b[39mcore\u001b[39;00m\u001b[39m.\u001b[39;00m\u001b[39mapply\u001b[39;00m \u001b[39mimport\u001b[39;00m frame_apply\n\u001b[0;32m   <a href='file:///c%3A/Users/ende/AppData/Local/Programs/Python/Python38-32/lib/site-packages/pandas/core/frame.py?line=8823'>8824</a>\u001b[0m op \u001b[39m=\u001b[39m frame_apply(\n\u001b[0;32m   <a href='file:///c%3A/Users/ende/AppData/Local/Programs/Python/Python38-32/lib/site-packages/pandas/core/frame.py?line=8824'>8825</a>\u001b[0m     \u001b[39mself\u001b[39m,\n\u001b[0;32m   <a href='file:///c%3A/Users/ende/AppData/Local/Programs/Python/Python38-32/lib/site-packages/pandas/core/frame.py?line=8825'>8826</a>\u001b[0m     func\u001b[39m=\u001b[39mfunc,\n\u001b[1;32m   (...)\u001b[0m\n\u001b[0;32m   <a href='file:///c%3A/Users/ende/AppData/Local/Programs/Python/Python38-32/lib/site-packages/pandas/core/frame.py?line=8830'>8831</a>\u001b[0m     kwargs\u001b[39m=\u001b[39mkwargs,\n\u001b[0;32m   <a href='file:///c%3A/Users/ende/AppData/Local/Programs/Python/Python38-32/lib/site-packages/pandas/core/frame.py?line=8831'>8832</a>\u001b[0m )\n\u001b[1;32m-> <a href='file:///c%3A/Users/ende/AppData/Local/Programs/Python/Python38-32/lib/site-packages/pandas/core/frame.py?line=8832'>8833</a>\u001b[0m \u001b[39mreturn\u001b[39;00m op\u001b[39m.\u001b[39;49mapply()\u001b[39m.\u001b[39m__finalize__(\u001b[39mself\u001b[39m, method\u001b[39m=\u001b[39m\u001b[39m\"\u001b[39m\u001b[39mapply\u001b[39m\u001b[39m\"\u001b[39m)\n",
      "File \u001b[1;32mc:\\Users\\ende\\AppData\\Local\\Programs\\Python\\Python38-32\\lib\\site-packages\\pandas\\core\\apply.py:727\u001b[0m, in \u001b[0;36mFrameApply.apply\u001b[1;34m(self)\u001b[0m\n\u001b[0;32m    <a href='file:///c%3A/Users/ende/AppData/Local/Programs/Python/Python38-32/lib/site-packages/pandas/core/apply.py?line=723'>724</a>\u001b[0m \u001b[39melif\u001b[39;00m \u001b[39mself\u001b[39m\u001b[39m.\u001b[39mraw:\n\u001b[0;32m    <a href='file:///c%3A/Users/ende/AppData/Local/Programs/Python/Python38-32/lib/site-packages/pandas/core/apply.py?line=724'>725</a>\u001b[0m     \u001b[39mreturn\u001b[39;00m \u001b[39mself\u001b[39m\u001b[39m.\u001b[39mapply_raw()\n\u001b[1;32m--> <a href='file:///c%3A/Users/ende/AppData/Local/Programs/Python/Python38-32/lib/site-packages/pandas/core/apply.py?line=726'>727</a>\u001b[0m \u001b[39mreturn\u001b[39;00m \u001b[39mself\u001b[39;49m\u001b[39m.\u001b[39;49mapply_standard()\n",
      "File \u001b[1;32mc:\\Users\\ende\\AppData\\Local\\Programs\\Python\\Python38-32\\lib\\site-packages\\pandas\\core\\apply.py:851\u001b[0m, in \u001b[0;36mFrameApply.apply_standard\u001b[1;34m(self)\u001b[0m\n\u001b[0;32m    <a href='file:///c%3A/Users/ende/AppData/Local/Programs/Python/Python38-32/lib/site-packages/pandas/core/apply.py?line=849'>850</a>\u001b[0m \u001b[39mdef\u001b[39;00m \u001b[39mapply_standard\u001b[39m(\u001b[39mself\u001b[39m):\n\u001b[1;32m--> <a href='file:///c%3A/Users/ende/AppData/Local/Programs/Python/Python38-32/lib/site-packages/pandas/core/apply.py?line=850'>851</a>\u001b[0m     results, res_index \u001b[39m=\u001b[39m \u001b[39mself\u001b[39;49m\u001b[39m.\u001b[39;49mapply_series_generator()\n\u001b[0;32m    <a href='file:///c%3A/Users/ende/AppData/Local/Programs/Python/Python38-32/lib/site-packages/pandas/core/apply.py?line=852'>853</a>\u001b[0m     \u001b[39m# wrap results\u001b[39;00m\n\u001b[0;32m    <a href='file:///c%3A/Users/ende/AppData/Local/Programs/Python/Python38-32/lib/site-packages/pandas/core/apply.py?line=853'>854</a>\u001b[0m     \u001b[39mreturn\u001b[39;00m \u001b[39mself\u001b[39m\u001b[39m.\u001b[39mwrap_results(results, res_index)\n",
      "File \u001b[1;32mc:\\Users\\ende\\AppData\\Local\\Programs\\Python\\Python38-32\\lib\\site-packages\\pandas\\core\\apply.py:867\u001b[0m, in \u001b[0;36mFrameApply.apply_series_generator\u001b[1;34m(self)\u001b[0m\n\u001b[0;32m    <a href='file:///c%3A/Users/ende/AppData/Local/Programs/Python/Python38-32/lib/site-packages/pandas/core/apply.py?line=863'>864</a>\u001b[0m \u001b[39mwith\u001b[39;00m option_context(\u001b[39m\"\u001b[39m\u001b[39mmode.chained_assignment\u001b[39m\u001b[39m\"\u001b[39m, \u001b[39mNone\u001b[39;00m):\n\u001b[0;32m    <a href='file:///c%3A/Users/ende/AppData/Local/Programs/Python/Python38-32/lib/site-packages/pandas/core/apply.py?line=864'>865</a>\u001b[0m     \u001b[39mfor\u001b[39;00m i, v \u001b[39min\u001b[39;00m \u001b[39menumerate\u001b[39m(series_gen):\n\u001b[0;32m    <a href='file:///c%3A/Users/ende/AppData/Local/Programs/Python/Python38-32/lib/site-packages/pandas/core/apply.py?line=865'>866</a>\u001b[0m         \u001b[39m# ignore SettingWithCopy here in case the user mutates\u001b[39;00m\n\u001b[1;32m--> <a href='file:///c%3A/Users/ende/AppData/Local/Programs/Python/Python38-32/lib/site-packages/pandas/core/apply.py?line=866'>867</a>\u001b[0m         results[i] \u001b[39m=\u001b[39m \u001b[39mself\u001b[39;49m\u001b[39m.\u001b[39;49mf(v)\n\u001b[0;32m    <a href='file:///c%3A/Users/ende/AppData/Local/Programs/Python/Python38-32/lib/site-packages/pandas/core/apply.py?line=867'>868</a>\u001b[0m         \u001b[39mif\u001b[39;00m \u001b[39misinstance\u001b[39m(results[i], ABCSeries):\n\u001b[0;32m    <a href='file:///c%3A/Users/ende/AppData/Local/Programs/Python/Python38-32/lib/site-packages/pandas/core/apply.py?line=868'>869</a>\u001b[0m             \u001b[39m# If we have a view on v, we need to make a copy because\u001b[39;00m\n\u001b[0;32m    <a href='file:///c%3A/Users/ende/AppData/Local/Programs/Python/Python38-32/lib/site-packages/pandas/core/apply.py?line=869'>870</a>\u001b[0m             \u001b[39m#  series_generator will swap out the underlying data\u001b[39;00m\n\u001b[0;32m    <a href='file:///c%3A/Users/ende/AppData/Local/Programs/Python/Python38-32/lib/site-packages/pandas/core/apply.py?line=870'>871</a>\u001b[0m             results[i] \u001b[39m=\u001b[39m results[i]\u001b[39m.\u001b[39mcopy(deep\u001b[39m=\u001b[39m\u001b[39mFalse\u001b[39;00m)\n",
      "\u001b[1;32mc:\\Users\\ende\\Desktop\\project\\notebooks\\new.ipynb Cell 14'\u001b[0m in \u001b[0;36m<lambda>\u001b[1;34m(x)\u001b[0m\n\u001b[1;32m----> <a href='vscode-notebook-cell:/c%3A/Users/ende/Desktop/project/notebooks/new.ipynb#ch0000015?line=0'>1</a>\u001b[0m df_store[\u001b[39m'\u001b[39m\u001b[39mDate_comptition\u001b[39m\u001b[39m'\u001b[39m] \u001b[39m=\u001b[39m df_store\u001b[39m.\u001b[39mapply(\u001b[39mlambda\u001b[39;00m x: datetime\u001b[39m.\u001b[39;49mdatetime\u001b[39m.\u001b[39;49mstrptime(\u001b[39m\"\u001b[39;49m\u001b[39m​\u001b[39;49m\u001b[39m{0}\u001b[39;49;00m\u001b[39m \u001b[39;49m\u001b[39m{1}\u001b[39;49;00m\u001b[39m​\u001b[39;49m\u001b[39m\"\u001b[39;49m\u001b[39m.\u001b[39;49mformat(x[\u001b[39m'\u001b[39;49m\u001b[39mCompetitionOpenSinceYear\u001b[39;49m\u001b[39m'\u001b[39;49m],x[\u001b[39m'\u001b[39;49m\u001b[39mCompetitionOpenSinceMonth\u001b[39;49m\u001b[39m'\u001b[39;49m]), \u001b[39m\"\u001b[39;49m\u001b[39m%\u001b[39;49m\u001b[39mY \u001b[39;49m\u001b[39m%\u001b[39;49m\u001b[39mM\u001b[39;49m\u001b[39m\"\u001b[39;49m),axis\u001b[39m=\u001b[39m\u001b[39m1\u001b[39m)\n",
      "File \u001b[1;32mc:\\Users\\ende\\AppData\\Local\\Programs\\Python\\Python38-32\\lib\\_strptime.py:568\u001b[0m, in \u001b[0;36m_strptime_datetime\u001b[1;34m(cls, data_string, format)\u001b[0m\n\u001b[0;32m    <a href='file:///c%3A/Users/ende/AppData/Local/Programs/Python/Python38-32/lib/_strptime.py?line=564'>565</a>\u001b[0m \u001b[39mdef\u001b[39;00m \u001b[39m_strptime_datetime\u001b[39m(\u001b[39mcls\u001b[39m, data_string, \u001b[39mformat\u001b[39m\u001b[39m=\u001b[39m\u001b[39m\"\u001b[39m\u001b[39m%a\u001b[39;00m\u001b[39m \u001b[39m\u001b[39m%\u001b[39m\u001b[39mb \u001b[39m\u001b[39m%d\u001b[39;00m\u001b[39m \u001b[39m\u001b[39m%\u001b[39m\u001b[39mH:\u001b[39m\u001b[39m%\u001b[39m\u001b[39mM:\u001b[39m\u001b[39m%\u001b[39m\u001b[39mS \u001b[39m\u001b[39m%\u001b[39m\u001b[39mY\u001b[39m\u001b[39m\"\u001b[39m):\n\u001b[0;32m    <a href='file:///c%3A/Users/ende/AppData/Local/Programs/Python/Python38-32/lib/_strptime.py?line=565'>566</a>\u001b[0m     \u001b[39m\"\"\"Return a class cls instance based on the input string and the\u001b[39;00m\n\u001b[0;32m    <a href='file:///c%3A/Users/ende/AppData/Local/Programs/Python/Python38-32/lib/_strptime.py?line=566'>567</a>\u001b[0m \u001b[39m    format string.\"\"\"\u001b[39;00m\n\u001b[1;32m--> <a href='file:///c%3A/Users/ende/AppData/Local/Programs/Python/Python38-32/lib/_strptime.py?line=567'>568</a>\u001b[0m     tt, fraction, gmtoff_fraction \u001b[39m=\u001b[39m _strptime(data_string, \u001b[39mformat\u001b[39;49m)\n\u001b[0;32m    <a href='file:///c%3A/Users/ende/AppData/Local/Programs/Python/Python38-32/lib/_strptime.py?line=568'>569</a>\u001b[0m     tzname, gmtoff \u001b[39m=\u001b[39m tt[\u001b[39m-\u001b[39m\u001b[39m2\u001b[39m:]\n\u001b[0;32m    <a href='file:///c%3A/Users/ende/AppData/Local/Programs/Python/Python38-32/lib/_strptime.py?line=569'>570</a>\u001b[0m     args \u001b[39m=\u001b[39m tt[:\u001b[39m6\u001b[39m] \u001b[39m+\u001b[39m (fraction,)\n",
      "File \u001b[1;32mc:\\Users\\ende\\AppData\\Local\\Programs\\Python\\Python38-32\\lib\\_strptime.py:349\u001b[0m, in \u001b[0;36m_strptime\u001b[1;34m(data_string, format)\u001b[0m\n\u001b[0;32m    <a href='file:///c%3A/Users/ende/AppData/Local/Programs/Python/Python38-32/lib/_strptime.py?line=346'>347</a>\u001b[0m found \u001b[39m=\u001b[39m format_regex\u001b[39m.\u001b[39mmatch(data_string)\n\u001b[0;32m    <a href='file:///c%3A/Users/ende/AppData/Local/Programs/Python/Python38-32/lib/_strptime.py?line=347'>348</a>\u001b[0m \u001b[39mif\u001b[39;00m \u001b[39mnot\u001b[39;00m found:\n\u001b[1;32m--> <a href='file:///c%3A/Users/ende/AppData/Local/Programs/Python/Python38-32/lib/_strptime.py?line=348'>349</a>\u001b[0m     \u001b[39mraise\u001b[39;00m \u001b[39mValueError\u001b[39;00m(\u001b[39m\"\u001b[39m\u001b[39mtime data \u001b[39m\u001b[39m%r\u001b[39;00m\u001b[39m does not match format \u001b[39m\u001b[39m%r\u001b[39;00m\u001b[39m\"\u001b[39m \u001b[39m%\u001b[39m\n\u001b[0;32m    <a href='file:///c%3A/Users/ende/AppData/Local/Programs/Python/Python38-32/lib/_strptime.py?line=349'>350</a>\u001b[0m                      (data_string, \u001b[39mformat\u001b[39m))\n\u001b[0;32m    <a href='file:///c%3A/Users/ende/AppData/Local/Programs/Python/Python38-32/lib/_strptime.py?line=350'>351</a>\u001b[0m \u001b[39mif\u001b[39;00m \u001b[39mlen\u001b[39m(data_string) \u001b[39m!=\u001b[39m found\u001b[39m.\u001b[39mend():\n\u001b[0;32m    <a href='file:///c%3A/Users/ende/AppData/Local/Programs/Python/Python38-32/lib/_strptime.py?line=351'>352</a>\u001b[0m     \u001b[39mraise\u001b[39;00m \u001b[39mValueError\u001b[39;00m(\u001b[39m\"\u001b[39m\u001b[39munconverted data remains: \u001b[39m\u001b[39m%s\u001b[39;00m\u001b[39m\"\u001b[39m \u001b[39m%\u001b[39m\n\u001b[0;32m    <a href='file:///c%3A/Users/ende/AppData/Local/Programs/Python/Python38-32/lib/_strptime.py?line=352'>353</a>\u001b[0m                       data_string[found\u001b[39m.\u001b[39mend():])\n",
      "\u001b[1;31mValueError\u001b[0m: time data '\\u200b2007 11\\u200b' does not match format '%Y %M'"
     ]
    }
   ],
   "source": [
    "df_store['Date_comptition'] = df_store.apply(lambda x: datetime.datetime.strptime(\"​{0} {1}​\".format(x['CompetitionOpenSinceYear'],x['CompetitionOpenSinceMonth']), \"%Y %M\"),axis=1)"
   ]
  }
 ],
 "metadata": {
  "interpreter": {
   "hash": "6669e905d54c68397e1c4ba277d51b7f25883f0f5329505f19619a9136390d6d"
  },
  "kernelspec": {
   "display_name": "Python 3.8.3 32-bit",
   "language": "python",
   "name": "python3"
  },
  "language_info": {
   "codemirror_mode": {
    "name": "ipython",
    "version": 3
   },
   "file_extension": ".py",
   "mimetype": "text/x-python",
   "name": "python",
   "nbconvert_exporter": "python",
   "pygments_lexer": "ipython3",
   "version": "3.8.3"
  },
  "orig_nbformat": 4
 },
 "nbformat": 4,
 "nbformat_minor": 2
}
