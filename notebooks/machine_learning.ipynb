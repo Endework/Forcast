{
 "cells": [
  {
   "cell_type": "code",
   "execution_count": 1,
   "metadata": {},
   "outputs": [],
   "source": [
    "# Import modules we'll need for this notebook\n",
    "import pandas as pd\n",
    "from sklearn.linear_model import LinearRegression\n",
    "from sklearn.metrics import mean_squared_error, r2_score\n",
    "from sklearn.model_selection import train_test_split\n",
    "import numpy as np\n",
    "import matplotlib.pyplot as plt\n",
    "%matplotlib inline\n",
    "import logging\n",
    "\n",
    "logging.basicConfig(level=logging.WARN)\n",
    "logger = logging.getLogger(__name__)\n",
    "\n",
    "import mlflow\n",
    "import mlflow.sklearn\n",
    "\n"
   ]
  },
  {
   "cell_type": "code",
   "execution_count": 2,
   "metadata": {},
   "outputs": [],
   "source": [
    "import os\n",
    "import sys\n",
    "sys.path.append(os.path.abspath(os.path.join('../scripts')))\n"
   ]
  },
  {
   "cell_type": "code",
   "execution_count": 3,
   "metadata": {},
   "outputs": [
    {
     "name": "stderr",
     "output_type": "stream",
     "text": [
      "2022/05/29 03:40:49 INFO mlflow.tracking.fluent: Experiment with name 'forcast' does not exist. Creating a new experiment.\n"
     ]
    },
    {
     "data": {
      "text/plain": [
       "<Experiment: artifact_location='file:///C:/Users/ende/Desktop/test/notebooks/mlruns/1', experiment_id='1', lifecycle_stage='active', name='forcast', tags={}>"
      ]
     },
     "execution_count": 3,
     "metadata": {},
     "output_type": "execute_result"
    }
   ],
   "source": [
    "mlflow.set_experiment('forcast')"
   ]
  },
  {
   "cell_type": "code",
   "execution_count": 4,
   "metadata": {},
   "outputs": [
    {
     "name": "stdout",
     "output_type": "stream",
     "text": [
      "<class 'pandas.core.frame.DataFrame'>\n",
      "RangeIndex: 1058297 entries, 0 to 1058296\n",
      "Data columns (total 14 columns):\n",
      " #   Column               Non-Null Count    Dtype  \n",
      "---  ------               --------------    -----  \n",
      " 0   Store                1058297 non-null  int64  \n",
      " 1   DayOfWeek            1058297 non-null  int64  \n",
      " 2   Date                 1058297 non-null  object \n",
      " 3   Open                 1058297 non-null  int64  \n",
      " 4   Promo                1058297 non-null  int64  \n",
      " 5   StateHoliday         1058297 non-null  object \n",
      " 6   SchoolHoliday        1058297 non-null  int64  \n",
      " 7   Sales                1058297 non-null  float64\n",
      " 8   Customers            1058297 non-null  float64\n",
      " 9   StoreType            1058297 non-null  object \n",
      " 10  Assortment           1058297 non-null  object \n",
      " 11  CompetitionDistance  1058297 non-null  float64\n",
      " 12  Promo2               1058297 non-null  int64  \n",
      " 13  compdate             1058297 non-null  object \n",
      "dtypes: float64(3), int64(6), object(5)\n",
      "memory usage: 92.9+ MB\n"
     ]
    }
   ],
   "source": [
    "#loading the dataset\n",
    "df = pd.read_csv('C:/Users/ende/Desktop/test/data/final.csv')\n",
    "df.info()"
   ]
  },
  {
   "cell_type": "code",
   "execution_count": 5,
   "metadata": {},
   "outputs": [
    {
     "data": {
      "text/plain": [
       "Index(['Store', 'DayOfWeek', 'Date', 'Open', 'Promo', 'StateHoliday',\n",
       "       'SchoolHoliday', 'Sales', 'Customers', 'StoreType', 'Assortment',\n",
       "       'CompetitionDistance', 'Promo2', 'compdate'],\n",
       "      dtype='object')"
      ]
     },
     "execution_count": 5,
     "metadata": {},
     "output_type": "execute_result"
    }
   ],
   "source": [
    "df.columns"
   ]
  },
  {
   "cell_type": "code",
   "execution_count": 6,
   "metadata": {},
   "outputs": [
    {
     "data": {
      "text/plain": [
       "array([0, 1], dtype=int64)"
      ]
     },
     "execution_count": 6,
     "metadata": {},
     "output_type": "execute_result"
    }
   ],
   "source": [
    "df.SchoolHoliday.unique()"
   ]
  },
  {
   "cell_type": "code",
   "execution_count": 7,
   "metadata": {},
   "outputs": [
    {
     "name": "stdout",
     "output_type": "stream",
     "text": [
      "   Store  DayOfWeek        Date  Open  Promo StateHoliday  SchoolHoliday  \\\n",
      "0      1          4  2015-09-17     1      1            0              0   \n",
      "1      1          3  2015-09-16     1      1            0              0   \n",
      "2      1          2  2015-09-15     1      1            0              0   \n",
      "3      1          1  2015-09-14     1      1            0              0   \n",
      "4      1          7  2015-09-13     0      0            0              0   \n",
      "\n",
      "    Sales  Customers StoreType Assortment  CompetitionDistance  Promo2  \\\n",
      "0  5263.0      555.0         c          a               1270.0       0   \n",
      "1  5263.0      555.0         c          a               1270.0       0   \n",
      "2  5263.0      555.0         c          a               1270.0       0   \n",
      "3  5263.0      555.0         c          a               1270.0       0   \n",
      "4  5263.0      555.0         c          a               1270.0       0   \n",
      "\n",
      "   compdate  day  \n",
      "0         1   17  \n",
      "1         1   16  \n",
      "2         1   15  \n",
      "3         1   14  \n",
      "4         1   13  \n"
     ]
    }
   ],
   "source": [
    "\n",
    "df['day'] = pd.DatetimeIndex(df['Date']).day\n",
    "df['compdate'] = pd.DatetimeIndex(df['compdate']).day\n",
    "numeric_features = ['Store', 'DayOfWeek','Customers','CompetitionDistance']\n",
    "categorical_features = ['Open','Assortment','StoreType','Promo2','Promo','StateHoliday', 'SchoolHoliday']\n",
    "df[numeric_features + ['Sales']].describe()\n",
    "print(df.head())\n",
    "\n",
    "\n"
   ]
  },
  {
   "cell_type": "code",
   "execution_count": 8,
   "metadata": {},
   "outputs": [],
   "source": [
    "# change categorical variables to numerical value\n",
    "from sklearn.preprocessing import LabelEncoder\n",
    "lb = LabelEncoder()\n",
    "df['Assortment'] = lb.fit_transform(df['Assortment'])\n",
    "df['StateHoliday'] = lb.fit_transform(df['StateHoliday'])\n",
    "df['SchoolHoliday'] = lb.fit_transform(df['SchoolHoliday'])\n",
    "df['StoreType'] = lb.fit_transform(df['StoreType'])\n",
    "df['Promo2'] = lb.fit_transform(df['Promo2'])\n",
    "df['Promo'] = lb.fit_transform(df['Promo'])\n",
    "df['Open'] = lb.fit_transform(df['Open'])\n",
    "\n",
    "\n",
    "\n"
   ]
  },
  {
   "cell_type": "code",
   "execution_count": 9,
   "metadata": {},
   "outputs": [
    {
     "name": "stdout",
     "output_type": "stream",
     "text": [
      "Training Set: 740807 rows\n",
      "Test Set: 317490 rows\n"
     ]
    }
   ],
   "source": [
    "# Separate features and labels\n",
    "# After separating the dataset, we now have numpy arrays named **X** containing the features, and **y** containing the labels.\n",
    "X, y = df[['Store', 'DayOfWeek','Customers','CompetitionDistance','Open','Assortment','StoreType','Promo2','Promo','StateHoliday', 'SchoolHoliday']].values, df['Sales'].values\n",
    "# Split data 70%-30% into training set and test set\n",
    "X_train, X_test, y_train, y_test = train_test_split(X, y, test_size=0.30, random_state=0)\n",
    "\n",
    "print ('Training Set: %d rows\\nTest Set: %d rows' % (X_train.shape[0], X_test.shape[0]))"
   ]
  },
  {
   "cell_type": "code",
   "execution_count": 10,
   "metadata": {},
   "outputs": [],
   "source": [
    "from sklearn.model_selection import GridSearchCV\n",
    "from sklearn.metrics import make_scorer, r2_score\n",
    "from sklearn.ensemble import GradientBoostingRegressor\n",
    "# Use a Gradient Boosting algorithm\n",
    "alg = GradientBoostingRegressor()\n",
    "\n",
    "# Try these hyperparameter values\n",
    "params = {\n",
    " 'learning_rate': [0.1, 0.5, 1.0],\n",
    " 'n_estimators' : [50, 100, 150]\n",
    " }\n",
    "\n",
    "\n"
   ]
  },
  {
   "cell_type": "code",
   "execution_count": 11,
   "metadata": {},
   "outputs": [],
   "source": [
    "# Find the best hyperparameter combination to optimize the R2 metric\n",
    "score = make_scorer(r2_score)\n",
    "gridsearch = GridSearchCV(alg, params, scoring=score, cv=3, return_train_score=True)"
   ]
  },
  {
   "cell_type": "code",
   "execution_count": 12,
   "metadata": {},
   "outputs": [
    {
     "name": "stdout",
     "output_type": "stream",
     "text": [
      "Best parameter combination: {'learning_rate': 0.5, 'n_estimators': 150} \n",
      "\n"
     ]
    }
   ],
   "source": [
    "gridsearch.fit(X_train[0:5000], y_train[0:5000])\n",
    "print(\"Best parameter combination:\", gridsearch.best_params_, \"\\n\")\n"
   ]
  },
  {
   "cell_type": "code",
   "execution_count": 14,
   "metadata": {},
   "outputs": [
    {
     "name": "stdout",
     "output_type": "stream",
     "text": [
      "GradientBoostingRegressor(learning_rate=0.5, n_estimators=150) \n",
      "\n"
     ]
    }
   ],
   "source": [
    "# Get the best model\n",
    "model=gridsearch.best_estimator_\n",
    "print(model, \"\\n\")"
   ]
  },
  {
   "cell_type": "code",
   "execution_count": 15,
   "metadata": {},
   "outputs": [
    {
     "data": {
      "image/png": "[encoded data removed]",
      "text/plain": [
       "<Figure size 432x288 with 1 Axes>"
      ]
     },
     "metadata": {
      "needs_background": "light"
     },
     "output_type": "display_data"
    }
   ],
   "source": [
    "# Get predictions\n",
    "predictions = model.predict(X_test[0:5000])\n",
    "# Plot predicted vs actual\n",
    "plt.scatter(y_test[0:5000], predictions)\n",
    "plt.xlabel('Actual Labels')\n",
    "plt.ylabel('Predicted Labels')\n",
    "plt.title('Daily Sale Predictions')\n",
    "z = np.polyfit(y_test[0:5000], predictions, 1)\n",
    "p = np.poly1d(z)\n",
    "plt.plot(y_test[0:5000],p(y_test[0:5000]), color='magenta')\n",
    "plt.show()\n",
    "# overlay the regression line\n"
   ]
  },
  {
   "cell_type": "code",
   "execution_count": 16,
   "metadata": {},
   "outputs": [],
   "source": [
    "# Train the model\n",
    "from sklearn.compose import ColumnTransformer\n",
    "from sklearn.pipeline import Pipeline\n",
    "from sklearn.impute import SimpleImputer\n",
    "from sklearn.preprocessing import StandardScaler, OneHotEncoder\n",
    "from sklearn.linear_model import LinearRegression\n",
    "import numpy as np\n",
    "\n",
    "# Define preprocessing for numeric columns (scale them)\n",
    "numeric_features = [7,8,9,10]\n",
    "numeric_transformer = Pipeline(steps=[\n",
    "    ('scaler', StandardScaler())])\n",
    "\n",
    "# Define preprocessing for categorical features (encode them)\n",
    "categorical_features = [0,1,2,3,4,5,6]\n",
    "categorical_transformer = Pipeline(steps=[\n",
    "    ('onehot', OneHotEncoder(handle_unknown='ignore'))])\n",
    "\n",
    "# Combine preprocessing steps\n",
    "preprocessor = ColumnTransformer(\n",
    "    transformers=[\n",
    "        ('num', numeric_transformer, numeric_features),\n",
    "        ('cat', categorical_transformer, categorical_features)])\n",
    "\n"
   ]
  },
  {
   "cell_type": "code",
   "execution_count": 17,
   "metadata": {},
   "outputs": [
    {
     "name": "stdout",
     "output_type": "stream",
     "text": [
      "Pipeline(steps=[('preprocessor',\n",
      "                 ColumnTransformer(transformers=[('num',\n",
      "                                                  Pipeline(steps=[('scaler',\n",
      "                                                                   StandardScaler())]),\n",
      "                                                  [7, 8, 9, 10]),\n",
      "                                                 ('cat',\n",
      "                                                  Pipeline(steps=[('onehot',\n",
      "                                                                   OneHotEncoder(handle_unknown='ignore'))]),\n",
      "                                                  [0, 1, 2, 3, 4, 5, 6])])),\n",
      "                ('regressor', GradientBoostingRegressor())])\n"
     ]
    }
   ],
   "source": [
    "# Create preprocessing and training pipeline\n",
    "pipeline = Pipeline(steps=[('preprocessor', preprocessor),\n",
    "                           ('regressor', GradientBoostingRegressor())])\n",
    "\n",
    "\n",
    "# fit the pipeline to train a linear regression model on the training set\n",
    "model = pipeline.fit(X_train[0:5000], y_train[0:5000])\n",
    "print (model)"
   ]
  },
  {
   "cell_type": "code",
   "execution_count": 18,
   "metadata": {},
   "outputs": [
    {
     "name": "stdout",
     "output_type": "stream",
     "text": [
      "MSE: 5113660.066598362\n",
      "RMSE: 2261.3403252492453\n",
      "R2: 0.6372670063517841\n"
     ]
    }
   ],
   "source": [
    "# Get predictions\n",
    "predictions = model.predict(X_test[0:5000])\n",
    "\n",
    "# Display metrics\n",
    "mse = mean_squared_error(y_test[0:5000], predictions)\n",
    "print(\"MSE:\", mse)\n",
    "rmse = np.sqrt(mse)\n",
    "print(\"RMSE:\", rmse)\n",
    "r2 = r2_score(y_test[0:5000], predictions)\n",
    "print(\"R2:\", r2)\n",
    "\n"
   ]
  },
  {
   "cell_type": "code",
   "execution_count": 19,
   "metadata": {},
   "outputs": [
    {
     "data": {
      "image/png": "[encoded data removed]",
      "text/plain": [
       "<Figure size 432x288 with 1 Axes>"
      ]
     },
     "metadata": {
      "needs_background": "light"
     },
     "output_type": "display_data"
    }
   ],
   "source": [
    "# Plot predicted vs actual\n",
    "plt.scatter(y_test[0:5000], predictions)\n",
    "plt.xlabel('Actual Labels')\n",
    "plt.ylabel('Predicted Labels')\n",
    "plt.title('Daily Sales Predictions')\n",
    "z = np.polyfit(y_test[0:5000], predictions, 1)\n",
    "p = np.poly1d(z)\n",
    "plt.plot(y_test[0:5000],p(y_test[0:5000]), color='magenta')\n",
    "plt.show()"
   ]
  },
  {
   "cell_type": "code",
   "execution_count": 20,
   "metadata": {},
   "outputs": [
    {
     "name": "stdout",
     "output_type": "stream",
     "text": [
      "Pipeline(steps=[('preprocessor',\n",
      "                 ColumnTransformer(transformers=[('num',\n",
      "                                                  Pipeline(steps=[('scaler',\n",
      "                                                                   StandardScaler())]),\n",
      "                                                  [7, 8, 9, 10]),\n",
      "                                                 ('cat',\n",
      "                                                  Pipeline(steps=[('onehot',\n",
      "                                                                   OneHotEncoder(handle_unknown='ignore'))]),\n",
      "                                                  [0, 1, 2, 3, 4, 5, 6])])),\n",
      "                ('regressor', RandomForestRegressor())]) \n",
      "\n"
     ]
    }
   ],
   "source": [
    "# Use a different estimator in the pipeline\n",
    "from sklearn.ensemble import RandomForestRegressor\n",
    "pipeline = Pipeline(steps=[('preprocessor', preprocessor),\n",
    "                           ('regressor', RandomForestRegressor())])\n",
    "\n",
    "\n",
    "# fit the pipeline to train a linear regression model on the training set\n",
    "model = pipeline.fit(X_train[0:5000], (y_train[0:5000]))\n",
    "print (model, \"\\n\")\n",
    "\n",
    "# Get predictions\n",
    "predictions = model.predict(X_test[0:5000])\n",
    "\n",
    "\n",
    "\n"
   ]
  },
  {
   "cell_type": "code",
   "execution_count": 21,
   "metadata": {},
   "outputs": [
    {
     "name": "stdout",
     "output_type": "stream",
     "text": [
      "MSE: 4256929.084782184\n",
      "RMSE: 2063.232678294473\n",
      "R2: 0.6980384674458103\n"
     ]
    }
   ],
   "source": [
    "# Display metrics\n",
    "mse = mean_squared_error(y_test[0:5000], predictions)\n",
    "print(\"MSE:\", mse)\n",
    "rmse = np.sqrt(mse)\n",
    "print(\"RMSE:\", rmse)\n",
    "r2 = r2_score(y_test[0:5000], predictions)\n",
    "print(\"R2:\", r2)"
   ]
  },
  {
   "cell_type": "code",
   "execution_count": 22,
   "metadata": {},
   "outputs": [
    {
     "data": {
      "image/png": "[encoded data removed]",
      "text/plain": [
       "<Figure size 432x288 with 1 Axes>"
      ]
     },
     "metadata": {
      "needs_background": "light"
     },
     "output_type": "display_data"
    }
   ],
   "source": [
    "# Plot predicted vs actual\n",
    "plt.scatter(y_test[0:5000], predictions)\n",
    "plt.xlabel('Actual Labels')\n",
    "plt.ylabel('Predicted Labels')\n",
    "plt.title('Sales Predictions - Preprocessed')\n",
    "z = np.polyfit(y_test[0:5000], predictions, 1)\n",
    "p = np.poly1d(z)\n",
    "plt.plot(y_test[0:5000],p(y_test[0:5000]), color='magenta')\n",
    "plt.show()"
   ]
  },
  {
   "cell_type": "markdown",
   "metadata": {},
   "source": [
    "#### Based on the R2 score RandomForestRegressor is the best model."
   ]
  },
  {
   "cell_type": "code",
   "execution_count": 23,
   "metadata": {},
   "outputs": [
    {
     "data": {
      "text/plain": [
       "['./salesforcast.pkl']"
      ]
     },
     "execution_count": 23,
     "metadata": {},
     "output_type": "execute_result"
    }
   ],
   "source": [
    "import joblib\n",
    "\n",
    "# Save the model as a pickle file\n",
    "filename = './salesforcast.pkl'\n",
    "joblib.dump(model, filename)"
   ]
  },
  {
   "cell_type": "code",
   "execution_count": null,
   "metadata": {},
   "outputs": [],
   "source": [
    "X_new = np.array([[1,1,0,3,1,1,0.226957,0.22927,0.436957,0.1869]]).astype('float64')\n",
    "1,6,1,0,0,1,555,'c','a',1270,0\n"
   ]
  },
  {
   "cell_type": "code",
   "execution_count": 28,
   "metadata": {},
   "outputs": [
    {
     "name": "stdout",
     "output_type": "stream",
     "text": [
      "New sample: [1, 6, 1, 0, 0, 1, 555, 3, 1, 1270, 0]\n",
      "Prediction: 6317 sales\n"
     ]
    }
   ],
   "source": [
    "# Load the model from the file\n",
    "loaded_model = joblib.load(filename)\n",
    "\n",
    "# Create a numpy array containing a new observation \n",
    "X_new = np.array([[1,6,1,0,0,1,555,3,1,1270,0]])\n",
    "print ('New sample: {}'.format(list(X_new[0])))\n",
    "\n",
    "# Use the model to predict tomorrow's rentals\n",
    "result = loaded_model.predict(X_new)\n",
    "print('Prediction: {:.0f} sales'.format(np.round(result[0])))"
   ]
  }
 ],
 "metadata": {
  "interpreter": {
   "hash": "6669e905d54c68397e1c4ba277d51b7f25883f0f5329505f19619a9136390d6d"
  },
  "kernelspec": {
   "display_name": "Python 3.8.3 32-bit",
   "language": "python",
   "name": "python3"
  },
  "language_info": {
   "codemirror_mode": {
    "name": "ipython",
    "version": 3
   },
   "file_extension": ".py",
   "mimetype": "text/x-python",
   "name": "python",
   "nbconvert_exporter": "python",
   "pygments_lexer": "ipython3",
   "version": "3.8.3"
  },
  "orig_nbformat": 4
 },
 "nbformat": 4,
 "nbformat_minor": 2
}
